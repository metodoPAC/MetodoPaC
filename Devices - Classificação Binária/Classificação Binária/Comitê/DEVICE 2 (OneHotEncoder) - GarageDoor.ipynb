{
 "cells": [
  {
   "cell_type": "code",
   "execution_count": null,
   "id": "c7716a80",
   "metadata": {},
   "outputs": [],
   "source": [
    "%matplotlib inline\n",
    "import matplotlib.pyplot as plt\n",
    "import pandas as pd\n",
    "import numpy as np\n",
    "import seaborn as sns\n",
    "import sklearn \n",
    "import imblearn\n",
    "import warnings\n",
    "warnings.filterwarnings('ignore')\n",
    "\n",
    "from sklearn.model_selection import StratifiedShuffleSplit\n",
    "from sklearn.preprocessing import StandardScaler\n",
    "\n",
    "from sklearn.pipeline import Pipeline\n",
    "from sklearn.model_selection import GridSearchCV\n",
    "from sklearn.metrics import classification_report\n",
    "\n",
    "from sklearn.model_selection import cross_val_score\n",
    "\n",
    "from sklearn.linear_model import LogisticRegression\n",
    "from sklearn.neighbors import KNeighborsClassifier\n",
    "from sklearn.ensemble import GradientBoostingClassifier\n",
    "from sklearn.naive_bayes import BernoulliNB\n",
    "from sklearn.discriminant_analysis import LinearDiscriminantAnalysis\n",
    "from sklearn.tree import DecisionTreeClassifier\n",
    "from sklearn.ensemble import RandomForestClassifier\n",
    "from sklearn.tree import DecisionTreeClassifier\n",
    "from sklearn.svm import SVC \n",
    "\n",
    "from sklearn.metrics import accuracy_score, precision_score, recall_score\n",
    "from sklearn.metrics import f1_score, balanced_accuracy_score, precision_recall_fscore_support, roc_auc_score"
   ]
  },
  {
   "cell_type": "code",
   "execution_count": null,
   "id": "5809f959",
   "metadata": {},
   "outputs": [],
   "source": [
    "#Ignorando avisos\n",
    "import warnings\n",
    "warnings.filterwarnings('ignore')"
   ]
  },
  {
   "cell_type": "code",
   "execution_count": null,
   "id": "a975e6fc",
   "metadata": {},
   "outputs": [],
   "source": [
    "#Formatação\n",
    "pd.set_option('display.max_columns', None)\n",
    "np.set_printoptions(threshold= 15)\n",
    "np.set_printoptions(precision=3)\n",
    "sns.set(style=\"darkgrid\")\n",
    "plt.rcParams['axes.labelsize'] = 14\n",
    "plt.rcParams['xtick.labelsize'] = 12\n",
    "plt.rcParams['ytick.labelsize'] = 12"
   ]
  },
  {
   "cell_type": "code",
   "execution_count": null,
   "id": "de883c4e",
   "metadata": {},
   "outputs": [],
   "source": [
    "df = pd.read_csv('Train_Test_IoT_Garage_Door.csv')\n",
    "df"
   ]
  },
  {
   "cell_type": "code",
   "execution_count": null,
   "id": "44b3296c",
   "metadata": {},
   "outputs": [],
   "source": [
    "# Substituindo os espaços em branco na coluna 'time'\n",
    "df['time'] = df['time'].str.replace(' ', '')"
   ]
  },
  {
   "cell_type": "code",
   "execution_count": null,
   "id": "18fa931d",
   "metadata": {},
   "outputs": [],
   "source": [
    "df['hour'] = ''\n",
    "df['minute'] = ''\n",
    "df['second'] = ''"
   ]
  },
  {
   "cell_type": "code",
   "execution_count": null,
   "id": "bee523f3",
   "metadata": {},
   "outputs": [],
   "source": [
    "df[['hour', 'minute', 'second']] = df['time'].str.split(':', expand=True)"
   ]
  },
  {
   "cell_type": "code",
   "execution_count": null,
   "id": "19d9cc71",
   "metadata": {},
   "outputs": [],
   "source": [
    "df['hour'] = df['hour'].astype(int)\n",
    "df['minute'] = df['minute'].astype(int)\n",
    "df['second'] = df['second'].astype(int)"
   ]
  },
  {
   "cell_type": "code",
   "execution_count": null,
   "id": "f2fcae15",
   "metadata": {},
   "outputs": [],
   "source": [
    "df.head()"
   ]
  },
  {
   "cell_type": "code",
   "execution_count": null,
   "id": "0a457589",
   "metadata": {},
   "outputs": [],
   "source": [
    "df['door_state'].unique()"
   ]
  },
  {
   "cell_type": "code",
   "execution_count": null,
   "id": "a9277f74",
   "metadata": {},
   "outputs": [],
   "source": [
    "df['sphone_signal'].unique()"
   ]
  },
  {
   "cell_type": "code",
   "execution_count": null,
   "id": "edae35e7",
   "metadata": {},
   "outputs": [],
   "source": [
    "#Pequena Alteração:\n",
    "df['sphone_signal'] = df['sphone_signal'].replace(['false  ', 0.0, '0'], 0)\n",
    "df['sphone_signal'] = df['sphone_signal'].replace(['true  ', 1.0, '1'], 1)"
   ]
  },
  {
   "cell_type": "code",
   "execution_count": null,
   "id": "e361445c",
   "metadata": {},
   "outputs": [],
   "source": [
    "df['sphone_signal'].unique()"
   ]
  },
  {
   "cell_type": "code",
   "execution_count": null,
   "id": "9e88de2f",
   "metadata": {},
   "outputs": [],
   "source": [
    "# Teste sem a feature de TS. \n",
    "df.drop(['ts', 'type', 'time'], axis=1, inplace=True)\n",
    "\n",
    "# Criando outras features usando a data (day-month-year)\n",
    "df.date = pd.to_datetime(df.date)\n",
    "df['day'] = df.date.dt.day\n",
    "df['month'] = df.date.dt.month\n",
    "df['year'] = df.date.dt.year\n",
    "\n",
    "df.drop(labels=['date'], inplace=True, axis=1)\n",
    "df.head()"
   ]
  },
  {
   "cell_type": "markdown",
   "id": "46763adf",
   "metadata": {},
   "source": [
    "## OneHot-Encoder"
   ]
  },
  {
   "cell_type": "code",
   "execution_count": null,
   "id": "7532c9bc",
   "metadata": {},
   "outputs": [],
   "source": [
    "door_state_dummies = pd.get_dummies(df['door_state'], prefix='door_state')"
   ]
  },
  {
   "cell_type": "code",
   "execution_count": null,
   "id": "0d6664e7",
   "metadata": {},
   "outputs": [],
   "source": [
    "df = pd.concat([df, door_state_dummies], axis=1)"
   ]
  },
  {
   "cell_type": "code",
   "execution_count": null,
   "id": "fcd70368",
   "metadata": {},
   "outputs": [],
   "source": [
    "df = df.drop(['door_state'], axis=1)"
   ]
  },
  {
   "cell_type": "code",
   "execution_count": null,
   "id": "56ffbab5",
   "metadata": {},
   "outputs": [],
   "source": [
    "df.head(3)"
   ]
  },
  {
   "cell_type": "markdown",
   "id": "51ad2b7b",
   "metadata": {},
   "source": [
    "### Ajustando dados X e y"
   ]
  },
  {
   "cell_type": "code",
   "execution_count": null,
   "id": "204b55db",
   "metadata": {},
   "outputs": [],
   "source": [
    "X = df[['sphone_signal', 'door_state_closed', 'door_state_open', 'day', 'hour', 'minute', 'second']]\n",
    "y = df['label']"
   ]
  },
  {
   "cell_type": "code",
   "execution_count": null,
   "id": "37481766",
   "metadata": {},
   "outputs": [],
   "source": [
    "from sklearn.preprocessing import OrdinalEncoder, LabelEncoder\n",
    "y = LabelEncoder().fit_transform(y)"
   ]
  },
  {
   "cell_type": "code",
   "execution_count": null,
   "id": "cb3aa43b",
   "metadata": {},
   "outputs": [],
   "source": [
    "# determine categorical and numerical features\n",
    "numerical_ix = X.select_dtypes(include=['int64', 'float64']).columns\n",
    "categorical_ix = X.select_dtypes(include=['object', 'bool']).columns"
   ]
  },
  {
   "cell_type": "code",
   "execution_count": null,
   "id": "7fe55328",
   "metadata": {},
   "outputs": [],
   "source": [
    "numerical_ix"
   ]
  },
  {
   "cell_type": "code",
   "execution_count": null,
   "id": "21bb384d",
   "metadata": {},
   "outputs": [],
   "source": [
    "categorical_ix"
   ]
  },
  {
   "cell_type": "code",
   "execution_count": null,
   "id": "c70367d9",
   "metadata": {},
   "outputs": [],
   "source": [
    "def classification_report_with_accuracy_score(y_true, y_pred):\n",
    "    print (classification_report(y_true, y_pred) )\n",
    "    return accuracy_score(y_true, y_pred)"
   ]
  },
  {
   "cell_type": "code",
   "execution_count": null,
   "id": "12977530",
   "metadata": {},
   "outputs": [],
   "source": [
    "from sklearn.ensemble import VotingClassifier\n",
    "from sklearn import tree\n",
    "\n",
    "est_RL  = LogisticRegression(C = 0.1, \n",
    "                             class_weight = 'balanced', \n",
    "                             max_iter = 100, \n",
    "                             multi_class = 'ovr', \n",
    "                             penalty= 'l2', \n",
    "                             solver = 'liblinear')\n",
    "\n",
    "est_KNN = KNeighborsClassifier(metric = 'euclidean', \n",
    "                               n_neighbors = 1)\n",
    "\n",
    "\n",
    "est_GBM = GradientBoostingClassifier(learning_rate = 0.1, \n",
    "                                     max_depth = 2, \n",
    "                                     max_features = 'auto', \n",
    "                                     min_samples_leaf = 1, \n",
    "                                     min_samples_split = 2, \n",
    "                                     n_estimators = 50, \n",
    "                                     subsample = 0.8)\n",
    "\n",
    "est_NB  = BernoulliNB(alpha = 0.1)\n",
    "\n",
    "est_LDA = LinearDiscriminantAnalysis(solver = 'svd')\n",
    "\n",
    "est_DTC = DecisionTreeClassifier(class_weight =  None, \n",
    "                                 criterion = 'gini', \n",
    "                                 max_depth = 4, \n",
    "                                 max_features = 'sqrt', \n",
    "                                 min_samples_leaf = 2, \n",
    "                                 min_samples_split = 5)\n",
    "\n",
    "est_RF  = RandomForestClassifier(bootstrap = True, \n",
    "                                 max_depth = 5, \n",
    "                                 max_features = 'sqrt', \n",
    "                                 min_samples_leaf = 1,\n",
    "                                 min_samples_split =2, \n",
    "                                 n_estimators = 100)\n",
    "\n",
    "est_Ensemble = VotingClassifier(estimators=[('RL', est_RL), ('KNN', est_KNN), ('GBM', est_GBM), ('NB', est_NB), ('LDA', est_LDA), ('DTC', est_DTC), ('RF', est_RF)],\n",
    "                        voting='soft')"
   ]
  },
  {
   "cell_type": "code",
   "execution_count": null,
   "id": "09fc3d22",
   "metadata": {},
   "outputs": [],
   "source": [
    "from sklearn.pipeline import make_pipeline\n",
    "from sklearn.model_selection import StratifiedKFold\n",
    "\n",
    "clf = make_pipeline(est_Ensemble)"
   ]
  },
  {
   "cell_type": "code",
   "execution_count": null,
   "id": "de06b91a",
   "metadata": {},
   "outputs": [],
   "source": [
    "from sklearn.model_selection import cross_val_predict\n",
    "from sklearn.metrics import classification_report, accuracy_score\n",
    "\n",
    "# Realize a validação cruzada e obtenha as previsões do modelo\n",
    "y_pred = cross_val_predict(clf, X, y, cv=StratifiedKFold(n_splits=5, shuffle=True, random_state=42))\n",
    "\n",
    "# Calcule e exiba o classification report para cada estimador\n",
    "for name, estimator in est_Ensemble.estimators:\n",
    "    estimator.fit(X, y)  # Treine o estimador\n",
    "    y_pred_estimator = estimator.predict(X)  # Faça previsões\n",
    "    report = classification_report(y, y_pred_estimator)\n",
    "    print(f\"Estimador: {name}\")\n",
    "    print(report)\n",
    "    print(\"---\")\n",
    "\n",
    "# Encontre o estimador com o melhor desempenho\n",
    "best_estimator_name = None\n",
    "best_estimator_score = 0.0\n",
    "\n",
    "for name, estimator in est_Ensemble.estimators:\n",
    "    estimator.fit(X, y)  # Treine o estimador\n",
    "    y_pred_estimator = estimator.predict(X)  # Faça previsões\n",
    "    accuracy = accuracy_score(y, y_pred_estimator)\n",
    "    if accuracy > best_estimator_score:\n",
    "        best_estimator_score = accuracy\n",
    "        best_estimator_name = name\n",
    "\n",
    "# Exiba o melhor estimador\n",
    "print(\"Melhor estimador: \", best_estimator_name)\n",
    "print(\"Pontuação de acurácia: \", best_estimator_score)\n"
   ]
  },
  {
   "cell_type": "code",
   "execution_count": null,
   "id": "6c2d20f4",
   "metadata": {},
   "outputs": [],
   "source": []
  }
 ],
 "metadata": {
  "kernelspec": {
   "display_name": "Python 3 (ipykernel)",
   "language": "python",
   "name": "python3"
  },
  "language_info": {
   "codemirror_mode": {
    "name": "ipython",
    "version": 3
   },
   "file_extension": ".py",
   "mimetype": "text/x-python",
   "name": "python",
   "nbconvert_exporter": "python",
   "pygments_lexer": "ipython3",
   "version": "3.10.9"
  }
 },
 "nbformat": 4,
 "nbformat_minor": 5
}
