{
 "cells": [
  {
   "cell_type": "code",
   "execution_count": null,
   "id": "c7716a80",
   "metadata": {
    "id": "c7716a80"
   },
   "outputs": [],
   "source": [
    "%matplotlib inline\n",
    "import matplotlib.pyplot as plt\n",
    "import pandas as pd\n",
    "import numpy as np\n",
    "import seaborn as sns\n",
    "import sklearn \n",
    "import imblearn\n",
    "import warnings\n",
    "warnings.filterwarnings('ignore')\n",
    "\n",
    "from sklearn.model_selection import StratifiedShuffleSplit\n",
    "from sklearn.preprocessing import StandardScaler\n",
    "\n",
    "from sklearn.pipeline import Pipeline\n",
    "from sklearn.model_selection import GridSearchCV\n",
    "from sklearn.metrics import classification_report\n",
    "\n",
    "from sklearn.model_selection import cross_val_score\n",
    "\n",
    "from sklearn.linear_model import LogisticRegression\n",
    "from sklearn.neighbors import KNeighborsClassifier\n",
    "from sklearn.ensemble import GradientBoostingClassifier\n",
    "from sklearn.naive_bayes import BernoulliNB\n",
    "from sklearn.discriminant_analysis import LinearDiscriminantAnalysis\n",
    "from sklearn.tree import DecisionTreeClassifier\n",
    "from sklearn.ensemble import RandomForestClassifier\n",
    "from sklearn.tree import DecisionTreeClassifier\n",
    "from sklearn.svm import SVC \n",
    "\n",
    "from sklearn.metrics import accuracy_score, precision_score, recall_score\n",
    "from sklearn.metrics import f1_score, balanced_accuracy_score, precision_recall_fscore_support, roc_auc_score"
   ]
  },
  {
   "cell_type": "code",
   "execution_count": null,
   "id": "5809f959",
   "metadata": {
    "id": "5809f959"
   },
   "outputs": [],
   "source": [
    "#Ignorando avisos\n",
    "import warnings\n",
    "warnings.filterwarnings('ignore')"
   ]
  },
  {
   "cell_type": "code",
   "execution_count": null,
   "id": "a975e6fc",
   "metadata": {
    "id": "a975e6fc"
   },
   "outputs": [],
   "source": [
    "#Formatação\n",
    "pd.set_option('display.max_columns', None)\n",
    "np.set_printoptions(threshold= 15)\n",
    "np.set_printoptions(precision=3)\n",
    "sns.set(style=\"darkgrid\")\n",
    "plt.rcParams['axes.labelsize'] = 14\n",
    "plt.rcParams['xtick.labelsize'] = 12\n",
    "plt.rcParams['ytick.labelsize'] = 12"
   ]
  },
  {
   "cell_type": "code",
   "execution_count": null,
   "id": "de883c4e",
   "metadata": {
    "id": "de883c4e",
    "outputId": "6ba563fe-2a4e-4b66-fa7f-8ebbd115ed23"
   },
   "outputs": [
    {
     "data": {
      "text/html": [
       "<div>\n",
       "<style scoped>\n",
       "    .dataframe tbody tr th:only-of-type {\n",
       "        vertical-align: middle;\n",
       "    }\n",
       "\n",
       "    .dataframe tbody tr th {\n",
       "        vertical-align: top;\n",
       "    }\n",
       "\n",
       "    .dataframe thead th {\n",
       "        text-align: right;\n",
       "    }\n",
       "</style>\n",
       "<table border=\"1\" class=\"dataframe\">\n",
       "  <thead>\n",
       "    <tr style=\"text-align: right;\">\n",
       "      <th></th>\n",
       "      <th>ts</th>\n",
       "      <th>date</th>\n",
       "      <th>time</th>\n",
       "      <th>temperature</th>\n",
       "      <th>pressure</th>\n",
       "      <th>humidity</th>\n",
       "      <th>label</th>\n",
       "      <th>type</th>\n",
       "    </tr>\n",
       "  </thead>\n",
       "  <tbody>\n",
       "    <tr>\n",
       "      <th>0</th>\n",
       "      <td>1556238796</td>\n",
       "      <td>25-Apr-19</td>\n",
       "      <td>17:33:16</td>\n",
       "      <td>40.881866</td>\n",
       "      <td>-0.101806</td>\n",
       "      <td>38.363631</td>\n",
       "      <td>1</td>\n",
       "      <td>ddos</td>\n",
       "    </tr>\n",
       "    <tr>\n",
       "      <th>1</th>\n",
       "      <td>1556238796</td>\n",
       "      <td>25-Apr-19</td>\n",
       "      <td>17:33:16</td>\n",
       "      <td>44.913806</td>\n",
       "      <td>2.661616</td>\n",
       "      <td>46.141423</td>\n",
       "      <td>1</td>\n",
       "      <td>ddos</td>\n",
       "    </tr>\n",
       "    <tr>\n",
       "      <th>2</th>\n",
       "      <td>1556238796</td>\n",
       "      <td>25-Apr-19</td>\n",
       "      <td>17:33:16</td>\n",
       "      <td>38.295822</td>\n",
       "      <td>-2.438871</td>\n",
       "      <td>50.850643</td>\n",
       "      <td>1</td>\n",
       "      <td>ddos</td>\n",
       "    </tr>\n",
       "    <tr>\n",
       "      <th>3</th>\n",
       "      <td>1556238801</td>\n",
       "      <td>25-Apr-19</td>\n",
       "      <td>17:33:21</td>\n",
       "      <td>41.306586</td>\n",
       "      <td>-0.101806</td>\n",
       "      <td>38.363631</td>\n",
       "      <td>1</td>\n",
       "      <td>ddos</td>\n",
       "    </tr>\n",
       "    <tr>\n",
       "      <th>4</th>\n",
       "      <td>1556238801</td>\n",
       "      <td>25-Apr-19</td>\n",
       "      <td>17:33:21</td>\n",
       "      <td>44.903178</td>\n",
       "      <td>3.080849</td>\n",
       "      <td>46.141423</td>\n",
       "      <td>1</td>\n",
       "      <td>ddos</td>\n",
       "    </tr>\n",
       "    <tr>\n",
       "      <th>...</th>\n",
       "      <td>...</td>\n",
       "      <td>...</td>\n",
       "      <td>...</td>\n",
       "      <td>...</td>\n",
       "      <td>...</td>\n",
       "      <td>...</td>\n",
       "      <td>...</td>\n",
       "      <td>...</td>\n",
       "    </tr>\n",
       "    <tr>\n",
       "      <th>59255</th>\n",
       "      <td>1554166618</td>\n",
       "      <td>1-Apr-19</td>\n",
       "      <td>17:56:58</td>\n",
       "      <td>32.799434</td>\n",
       "      <td>2.204924</td>\n",
       "      <td>37.024913</td>\n",
       "      <td>0</td>\n",
       "      <td>normal</td>\n",
       "    </tr>\n",
       "    <tr>\n",
       "      <th>59256</th>\n",
       "      <td>1554166618</td>\n",
       "      <td>1-Apr-19</td>\n",
       "      <td>17:56:58</td>\n",
       "      <td>29.453781</td>\n",
       "      <td>-2.030547</td>\n",
       "      <td>90.297894</td>\n",
       "      <td>0</td>\n",
       "      <td>normal</td>\n",
       "    </tr>\n",
       "    <tr>\n",
       "      <th>59257</th>\n",
       "      <td>1554166619</td>\n",
       "      <td>1-Apr-19</td>\n",
       "      <td>17:56:59</td>\n",
       "      <td>47.185992</td>\n",
       "      <td>0.872942</td>\n",
       "      <td>37.687701</td>\n",
       "      <td>0</td>\n",
       "      <td>normal</td>\n",
       "    </tr>\n",
       "    <tr>\n",
       "      <th>59258</th>\n",
       "      <td>1554166623</td>\n",
       "      <td>1-Apr-19</td>\n",
       "      <td>17:57:03</td>\n",
       "      <td>43.097037</td>\n",
       "      <td>3.168207</td>\n",
       "      <td>93.647950</td>\n",
       "      <td>0</td>\n",
       "      <td>normal</td>\n",
       "    </tr>\n",
       "    <tr>\n",
       "      <th>59259</th>\n",
       "      <td>1554166623</td>\n",
       "      <td>1-Apr-19</td>\n",
       "      <td>17:57:03</td>\n",
       "      <td>32.489751</td>\n",
       "      <td>2.204924</td>\n",
       "      <td>37.024913</td>\n",
       "      <td>0</td>\n",
       "      <td>normal</td>\n",
       "    </tr>\n",
       "  </tbody>\n",
       "</table>\n",
       "<p>59260 rows × 8 columns</p>\n",
       "</div>"
      ],
      "text/plain": [
       "               ts       date      time  temperature  pressure   humidity  \\\n",
       "0      1556238796  25-Apr-19  17:33:16    40.881866 -0.101806  38.363631   \n",
       "1      1556238796  25-Apr-19  17:33:16    44.913806  2.661616  46.141423   \n",
       "2      1556238796  25-Apr-19  17:33:16    38.295822 -2.438871  50.850643   \n",
       "3      1556238801  25-Apr-19  17:33:21    41.306586 -0.101806  38.363631   \n",
       "4      1556238801  25-Apr-19  17:33:21    44.903178  3.080849  46.141423   \n",
       "...           ...        ...       ...          ...       ...        ...   \n",
       "59255  1554166618   1-Apr-19  17:56:58    32.799434  2.204924  37.024913   \n",
       "59256  1554166618   1-Apr-19  17:56:58    29.453781 -2.030547  90.297894   \n",
       "59257  1554166619   1-Apr-19  17:56:59    47.185992  0.872942  37.687701   \n",
       "59258  1554166623   1-Apr-19  17:57:03    43.097037  3.168207  93.647950   \n",
       "59259  1554166623   1-Apr-19  17:57:03    32.489751  2.204924  37.024913   \n",
       "\n",
       "       label    type  \n",
       "0          1    ddos  \n",
       "1          1    ddos  \n",
       "2          1    ddos  \n",
       "3          1    ddos  \n",
       "4          1    ddos  \n",
       "...      ...     ...  \n",
       "59255      0  normal  \n",
       "59256      0  normal  \n",
       "59257      0  normal  \n",
       "59258      0  normal  \n",
       "59259      0  normal  \n",
       "\n",
       "[59260 rows x 8 columns]"
      ]
     },
     "execution_count": 4,
     "metadata": {},
     "output_type": "execute_result"
    }
   ],
   "source": [
    "df = pd.read_csv('Train_Test_IoT_Weather.csv')\n",
    "df"
   ]
  },
  {
   "cell_type": "code",
   "execution_count": null,
   "id": "44b3296c",
   "metadata": {
    "id": "44b3296c"
   },
   "outputs": [],
   "source": [
    "# Substituindo os espaços em branco na coluna 'time'\n",
    "df['time'] = df['time'].str.replace(' ', '')"
   ]
  },
  {
   "cell_type": "code",
   "execution_count": null,
   "id": "18fa931d",
   "metadata": {
    "id": "18fa931d"
   },
   "outputs": [],
   "source": [
    "df['hour'] = ''\n",
    "df['minute'] = ''\n",
    "df['second'] = ''"
   ]
  },
  {
   "cell_type": "code",
   "execution_count": null,
   "id": "bee523f3",
   "metadata": {
    "id": "bee523f3"
   },
   "outputs": [],
   "source": [
    "df[['hour', 'minute', 'second']] = df['time'].str.split(':', expand=True)"
   ]
  },
  {
   "cell_type": "code",
   "execution_count": null,
   "id": "19d9cc71",
   "metadata": {
    "id": "19d9cc71"
   },
   "outputs": [],
   "source": [
    "df['hour'] = df['hour'].astype(int)\n",
    "df['minute'] = df['minute'].astype(int)\n",
    "df['second'] = df['second'].astype(int)"
   ]
  },
  {
   "cell_type": "code",
   "execution_count": null,
   "id": "f2fcae15",
   "metadata": {
    "id": "f2fcae15",
    "outputId": "c8512a7a-073d-4e51-80b0-dc0d85711d85"
   },
   "outputs": [
    {
     "data": {
      "text/html": [
       "<div>\n",
       "<style scoped>\n",
       "    .dataframe tbody tr th:only-of-type {\n",
       "        vertical-align: middle;\n",
       "    }\n",
       "\n",
       "    .dataframe tbody tr th {\n",
       "        vertical-align: top;\n",
       "    }\n",
       "\n",
       "    .dataframe thead th {\n",
       "        text-align: right;\n",
       "    }\n",
       "</style>\n",
       "<table border=\"1\" class=\"dataframe\">\n",
       "  <thead>\n",
       "    <tr style=\"text-align: right;\">\n",
       "      <th></th>\n",
       "      <th>ts</th>\n",
       "      <th>date</th>\n",
       "      <th>time</th>\n",
       "      <th>temperature</th>\n",
       "      <th>pressure</th>\n",
       "      <th>humidity</th>\n",
       "      <th>label</th>\n",
       "      <th>type</th>\n",
       "      <th>hour</th>\n",
       "      <th>minute</th>\n",
       "      <th>second</th>\n",
       "    </tr>\n",
       "  </thead>\n",
       "  <tbody>\n",
       "    <tr>\n",
       "      <th>0</th>\n",
       "      <td>1556238796</td>\n",
       "      <td>25-Apr-19</td>\n",
       "      <td>17:33:16</td>\n",
       "      <td>40.881866</td>\n",
       "      <td>-0.101806</td>\n",
       "      <td>38.363631</td>\n",
       "      <td>1</td>\n",
       "      <td>ddos</td>\n",
       "      <td>17</td>\n",
       "      <td>33</td>\n",
       "      <td>16</td>\n",
       "    </tr>\n",
       "    <tr>\n",
       "      <th>1</th>\n",
       "      <td>1556238796</td>\n",
       "      <td>25-Apr-19</td>\n",
       "      <td>17:33:16</td>\n",
       "      <td>44.913806</td>\n",
       "      <td>2.661616</td>\n",
       "      <td>46.141423</td>\n",
       "      <td>1</td>\n",
       "      <td>ddos</td>\n",
       "      <td>17</td>\n",
       "      <td>33</td>\n",
       "      <td>16</td>\n",
       "    </tr>\n",
       "    <tr>\n",
       "      <th>2</th>\n",
       "      <td>1556238796</td>\n",
       "      <td>25-Apr-19</td>\n",
       "      <td>17:33:16</td>\n",
       "      <td>38.295822</td>\n",
       "      <td>-2.438871</td>\n",
       "      <td>50.850643</td>\n",
       "      <td>1</td>\n",
       "      <td>ddos</td>\n",
       "      <td>17</td>\n",
       "      <td>33</td>\n",
       "      <td>16</td>\n",
       "    </tr>\n",
       "    <tr>\n",
       "      <th>3</th>\n",
       "      <td>1556238801</td>\n",
       "      <td>25-Apr-19</td>\n",
       "      <td>17:33:21</td>\n",
       "      <td>41.306586</td>\n",
       "      <td>-0.101806</td>\n",
       "      <td>38.363631</td>\n",
       "      <td>1</td>\n",
       "      <td>ddos</td>\n",
       "      <td>17</td>\n",
       "      <td>33</td>\n",
       "      <td>21</td>\n",
       "    </tr>\n",
       "    <tr>\n",
       "      <th>4</th>\n",
       "      <td>1556238801</td>\n",
       "      <td>25-Apr-19</td>\n",
       "      <td>17:33:21</td>\n",
       "      <td>44.903178</td>\n",
       "      <td>3.080849</td>\n",
       "      <td>46.141423</td>\n",
       "      <td>1</td>\n",
       "      <td>ddos</td>\n",
       "      <td>17</td>\n",
       "      <td>33</td>\n",
       "      <td>21</td>\n",
       "    </tr>\n",
       "  </tbody>\n",
       "</table>\n",
       "</div>"
      ],
      "text/plain": [
       "           ts       date      time  temperature  pressure   humidity  label  \\\n",
       "0  1556238796  25-Apr-19  17:33:16    40.881866 -0.101806  38.363631      1   \n",
       "1  1556238796  25-Apr-19  17:33:16    44.913806  2.661616  46.141423      1   \n",
       "2  1556238796  25-Apr-19  17:33:16    38.295822 -2.438871  50.850643      1   \n",
       "3  1556238801  25-Apr-19  17:33:21    41.306586 -0.101806  38.363631      1   \n",
       "4  1556238801  25-Apr-19  17:33:21    44.903178  3.080849  46.141423      1   \n",
       "\n",
       "   type  hour  minute  second  \n",
       "0  ddos    17      33      16  \n",
       "1  ddos    17      33      16  \n",
       "2  ddos    17      33      16  \n",
       "3  ddos    17      33      21  \n",
       "4  ddos    17      33      21  "
      ]
     },
     "execution_count": 9,
     "metadata": {},
     "output_type": "execute_result"
    }
   ],
   "source": [
    "df.head()"
   ]
  },
  {
   "cell_type": "markdown",
   "id": "9c0272d6",
   "metadata": {
    "id": "9c0272d6"
   },
   "source": [
    "## Ajuste de dados"
   ]
  },
  {
   "cell_type": "code",
   "execution_count": null,
   "id": "9e88de2f",
   "metadata": {
    "id": "9e88de2f",
    "outputId": "ab4b77cd-6f9e-4296-8455-e32296635f41"
   },
   "outputs": [
    {
     "data": {
      "text/html": [
       "<div>\n",
       "<style scoped>\n",
       "    .dataframe tbody tr th:only-of-type {\n",
       "        vertical-align: middle;\n",
       "    }\n",
       "\n",
       "    .dataframe tbody tr th {\n",
       "        vertical-align: top;\n",
       "    }\n",
       "\n",
       "    .dataframe thead th {\n",
       "        text-align: right;\n",
       "    }\n",
       "</style>\n",
       "<table border=\"1\" class=\"dataframe\">\n",
       "  <thead>\n",
       "    <tr style=\"text-align: right;\">\n",
       "      <th></th>\n",
       "      <th>temperature</th>\n",
       "      <th>pressure</th>\n",
       "      <th>humidity</th>\n",
       "      <th>label</th>\n",
       "      <th>hour</th>\n",
       "      <th>minute</th>\n",
       "      <th>second</th>\n",
       "      <th>day</th>\n",
       "      <th>month</th>\n",
       "      <th>year</th>\n",
       "    </tr>\n",
       "  </thead>\n",
       "  <tbody>\n",
       "    <tr>\n",
       "      <th>0</th>\n",
       "      <td>40.881866</td>\n",
       "      <td>-0.101806</td>\n",
       "      <td>38.363631</td>\n",
       "      <td>1</td>\n",
       "      <td>17</td>\n",
       "      <td>33</td>\n",
       "      <td>16</td>\n",
       "      <td>25</td>\n",
       "      <td>4</td>\n",
       "      <td>2019</td>\n",
       "    </tr>\n",
       "    <tr>\n",
       "      <th>1</th>\n",
       "      <td>44.913806</td>\n",
       "      <td>2.661616</td>\n",
       "      <td>46.141423</td>\n",
       "      <td>1</td>\n",
       "      <td>17</td>\n",
       "      <td>33</td>\n",
       "      <td>16</td>\n",
       "      <td>25</td>\n",
       "      <td>4</td>\n",
       "      <td>2019</td>\n",
       "    </tr>\n",
       "    <tr>\n",
       "      <th>2</th>\n",
       "      <td>38.295822</td>\n",
       "      <td>-2.438871</td>\n",
       "      <td>50.850643</td>\n",
       "      <td>1</td>\n",
       "      <td>17</td>\n",
       "      <td>33</td>\n",
       "      <td>16</td>\n",
       "      <td>25</td>\n",
       "      <td>4</td>\n",
       "      <td>2019</td>\n",
       "    </tr>\n",
       "    <tr>\n",
       "      <th>3</th>\n",
       "      <td>41.306586</td>\n",
       "      <td>-0.101806</td>\n",
       "      <td>38.363631</td>\n",
       "      <td>1</td>\n",
       "      <td>17</td>\n",
       "      <td>33</td>\n",
       "      <td>21</td>\n",
       "      <td>25</td>\n",
       "      <td>4</td>\n",
       "      <td>2019</td>\n",
       "    </tr>\n",
       "    <tr>\n",
       "      <th>4</th>\n",
       "      <td>44.903178</td>\n",
       "      <td>3.080849</td>\n",
       "      <td>46.141423</td>\n",
       "      <td>1</td>\n",
       "      <td>17</td>\n",
       "      <td>33</td>\n",
       "      <td>21</td>\n",
       "      <td>25</td>\n",
       "      <td>4</td>\n",
       "      <td>2019</td>\n",
       "    </tr>\n",
       "  </tbody>\n",
       "</table>\n",
       "</div>"
      ],
      "text/plain": [
       "   temperature  pressure   humidity  label  hour  minute  second  day  month  \\\n",
       "0    40.881866 -0.101806  38.363631      1    17      33      16   25      4   \n",
       "1    44.913806  2.661616  46.141423      1    17      33      16   25      4   \n",
       "2    38.295822 -2.438871  50.850643      1    17      33      16   25      4   \n",
       "3    41.306586 -0.101806  38.363631      1    17      33      21   25      4   \n",
       "4    44.903178  3.080849  46.141423      1    17      33      21   25      4   \n",
       "\n",
       "   year  \n",
       "0  2019  \n",
       "1  2019  \n",
       "2  2019  \n",
       "3  2019  \n",
       "4  2019  "
      ]
     },
     "execution_count": 10,
     "metadata": {},
     "output_type": "execute_result"
    }
   ],
   "source": [
    "# Teste sem a feature de TS. \n",
    "df.drop(['ts', 'type', 'time'], axis=1, inplace=True)\n",
    "\n",
    "# Criando outras features usando a data (day-month-year)\n",
    "df.date = pd.to_datetime(df.date)\n",
    "df['day'] = df.date.dt.day\n",
    "df['month'] = df.date.dt.month\n",
    "df['year'] = df.date.dt.year\n",
    "\n",
    "df.drop(labels=['date'], inplace=True, axis=1)\n",
    "df.head()"
   ]
  },
  {
   "cell_type": "markdown",
   "id": "51ad2b7b",
   "metadata": {
    "id": "51ad2b7b"
   },
   "source": [
    "### Ajustando dados X e y"
   ]
  },
  {
   "cell_type": "code",
   "execution_count": null,
   "id": "204b55db",
   "metadata": {
    "id": "204b55db"
   },
   "outputs": [],
   "source": [
    "X = df[['temperature','pressure', 'humidity','day', 'hour', 'minute', 'second']]\n",
    "y = df['label']"
   ]
  },
  {
   "cell_type": "code",
   "execution_count": null,
   "id": "e7eb86f6",
   "metadata": {
    "id": "e7eb86f6",
    "outputId": "84ee34a2-77f9-48d4-cfc1-12fa65d1d961"
   },
   "outputs": [
    {
     "name": "stdout",
     "output_type": "stream",
     "text": [
      "<class 'pandas.core.frame.DataFrame'>\n",
      "RangeIndex: 59260 entries, 0 to 59259\n",
      "Data columns (total 10 columns):\n",
      " #   Column       Non-Null Count  Dtype  \n",
      "---  ------       --------------  -----  \n",
      " 0   temperature  59260 non-null  float64\n",
      " 1   pressure     59260 non-null  float64\n",
      " 2   humidity     59260 non-null  float64\n",
      " 3   label        59260 non-null  int64  \n",
      " 4   hour         59260 non-null  int32  \n",
      " 5   minute       59260 non-null  int32  \n",
      " 6   second       59260 non-null  int32  \n",
      " 7   day          59260 non-null  int64  \n",
      " 8   month        59260 non-null  int64  \n",
      " 9   year         59260 non-null  int64  \n",
      "dtypes: float64(3), int32(3), int64(4)\n",
      "memory usage: 3.8 MB\n"
     ]
    }
   ],
   "source": [
    "df.info()"
   ]
  },
  {
   "cell_type": "code",
   "execution_count": null,
   "id": "37481766",
   "metadata": {
    "id": "37481766"
   },
   "outputs": [],
   "source": [
    "from sklearn.preprocessing import OrdinalEncoder, LabelEncoder\n",
    "y = LabelEncoder().fit_transform(y)"
   ]
  },
  {
   "cell_type": "code",
   "execution_count": null,
   "id": "cb3aa43b",
   "metadata": {
    "id": "cb3aa43b"
   },
   "outputs": [],
   "source": [
    "# determine categorical and numerical features\n",
    "numerical_ix = X.select_dtypes(include=['int64', 'int32', 'float64']).columns\n",
    "categorical_ix = X.select_dtypes(include=['object', 'bool']).columns"
   ]
  },
  {
   "cell_type": "code",
   "execution_count": null,
   "id": "7fe55328",
   "metadata": {
    "id": "7fe55328",
    "outputId": "1d4be2a1-7c92-44de-f1c2-2f4f58721a76"
   },
   "outputs": [
    {
     "data": {
      "text/plain": [
       "Index(['temperature', 'pressure', 'humidity', 'day', 'hour', 'minute',\n",
       "       'second'],\n",
       "      dtype='object')"
      ]
     },
     "execution_count": 15,
     "metadata": {},
     "output_type": "execute_result"
    }
   ],
   "source": [
    "numerical_ix"
   ]
  },
  {
   "cell_type": "code",
   "execution_count": null,
   "id": "21bb384d",
   "metadata": {
    "id": "21bb384d",
    "outputId": "521d21f3-ddf1-4d78-82db-d8ec70689905"
   },
   "outputs": [
    {
     "data": {
      "text/plain": [
       "Index([], dtype='object')"
      ]
     },
     "execution_count": 16,
     "metadata": {},
     "output_type": "execute_result"
    }
   ],
   "source": [
    "categorical_ix"
   ]
  },
  {
   "cell_type": "code",
   "execution_count": null,
   "id": "c70367d9",
   "metadata": {
    "id": "c70367d9"
   },
   "outputs": [],
   "source": [
    "def classification_report_with_accuracy_score(y_true, y_pred):\n",
    "    print (classification_report(y_true, y_pred) )\n",
    "    return accuracy_score(y_true, y_pred)"
   ]
  },
  {
   "cell_type": "code",
   "execution_count": null,
   "id": "12977530",
   "metadata": {
    "id": "12977530"
   },
   "outputs": [],
   "source": [
    "from sklearn.ensemble import VotingClassifier\n",
    "from sklearn import tree\n",
    "\n",
    "est_RL  = LogisticRegression(C = 0.1, \n",
    "                             class_weight = None, \n",
    "                             max_iter = 100, \n",
    "                             multi_class = 'ovr', \n",
    "                             penalty= 'l1', \n",
    "                             solver = 'saga')\n",
    "\n",
    "est_KNN = KNeighborsClassifier(metric = 'euclidean', \n",
    "                               n_neighbors = 1)\n",
    "\n",
    "\n",
    "est_GBM = GradientBoostingClassifier(learning_rate = 0.1, \n",
    "                                     max_depth = 2, \n",
    "                                     max_features = 'auto', \n",
    "                                     min_samples_leaf = 1, \n",
    "                                     min_samples_split = 2, \n",
    "                                     n_estimators = 50, \n",
    "                                     subsample = 0.8)\n",
    "\n",
    "est_NB  = BernoulliNB(alpha = 0.1)\n",
    "\n",
    "est_LDA = LinearDiscriminantAnalysis(solver = 'svd')\n",
    "\n",
    "est_DTC = DecisionTreeClassifier(class_weight =  None, \n",
    "                                 criterion = 'gini', \n",
    "                                 max_depth = 2, \n",
    "                                 max_features = 'sqrt', \n",
    "                                 min_samples_leaf = 1, \n",
    "                                 min_samples_split = 2)\n",
    "\n",
    "est_RF  = RandomForestClassifier(bootstrap = True, \n",
    "                                 max_depth = 3, \n",
    "                                 max_features = 'sqrt', \n",
    "                                 min_samples_leaf = 1,\n",
    "                                 min_samples_split =2, \n",
    "                                 n_estimators = 100)\n",
    "\n",
    "est_Ensemble = VotingClassifier(estimators=[('RL', est_RL), ('KNN', est_KNN), ('GBM', est_GBM), ('NB', est_NB), ('LDA', est_LDA), ('DTC', est_DTC), ('RF', est_RF)],\n",
    "                        voting='soft')"
   ]
  },
  {
   "cell_type": "code",
   "execution_count": null,
   "id": "09fc3d22",
   "metadata": {
    "id": "09fc3d22"
   },
   "outputs": [],
   "source": [
    "from sklearn.pipeline import make_pipeline\n",
    "from sklearn.model_selection import StratifiedKFold\n",
    "\n",
    "clf = make_pipeline(est_Ensemble)"
   ]
  },
  {
   "cell_type": "code",
   "execution_count": null,
   "id": "de06b91a",
   "metadata": {
    "id": "de06b91a",
    "outputId": "a6759854-8fd7-4c42-cd22-7a0f99f09a4f"
   },
   "outputs": [
    {
     "name": "stdout",
     "output_type": "stream",
     "text": [
      "Estimador: RL\n",
      "              precision    recall  f1-score   support\n",
      "\n",
      "           0       0.73      0.97      0.83     35000\n",
      "           1       0.92      0.49      0.63     24260\n",
      "\n",
      "    accuracy                           0.77     59260\n",
      "   macro avg       0.82      0.73      0.73     59260\n",
      "weighted avg       0.81      0.77      0.75     59260\n",
      "\n",
      "---\n",
      "Estimador: KNN\n",
      "              precision    recall  f1-score   support\n",
      "\n",
      "           0       1.00      1.00      1.00     35000\n",
      "           1       1.00      1.00      1.00     24260\n",
      "\n",
      "    accuracy                           1.00     59260\n",
      "   macro avg       1.00      1.00      1.00     59260\n",
      "weighted avg       1.00      1.00      1.00     59260\n",
      "\n",
      "---\n",
      "Estimador: GBM\n",
      "              precision    recall  f1-score   support\n",
      "\n",
      "           0       1.00      1.00      1.00     35000\n",
      "           1       1.00      1.00      1.00     24260\n",
      "\n",
      "    accuracy                           1.00     59260\n",
      "   macro avg       1.00      1.00      1.00     59260\n",
      "weighted avg       1.00      1.00      1.00     59260\n",
      "\n",
      "---\n",
      "Estimador: NB\n",
      "              precision    recall  f1-score   support\n",
      "\n",
      "           0       0.66      0.85      0.74     35000\n",
      "           1       0.63      0.35      0.45     24260\n",
      "\n",
      "    accuracy                           0.65     59260\n",
      "   macro avg       0.64      0.60      0.60     59260\n",
      "weighted avg       0.64      0.65      0.62     59260\n",
      "\n",
      "---\n",
      "Estimador: LDA\n",
      "              precision    recall  f1-score   support\n",
      "\n",
      "           0       0.73      0.98      0.84     35000\n",
      "           1       0.95      0.49      0.64     24260\n",
      "\n",
      "    accuracy                           0.78     59260\n",
      "   macro avg       0.84      0.73      0.74     59260\n",
      "weighted avg       0.82      0.78      0.76     59260\n",
      "\n",
      "---\n",
      "Estimador: DTC\n",
      "              precision    recall  f1-score   support\n",
      "\n",
      "           0       0.64      0.95      0.77     35000\n",
      "           1       0.76      0.23      0.35     24260\n",
      "\n",
      "    accuracy                           0.66     59260\n",
      "   macro avg       0.70      0.59      0.56     59260\n",
      "weighted avg       0.69      0.66      0.60     59260\n",
      "\n",
      "---\n",
      "Estimador: RF\n",
      "              precision    recall  f1-score   support\n",
      "\n",
      "           0       1.00      1.00      1.00     35000\n",
      "           1       1.00      1.00      1.00     24260\n",
      "\n",
      "    accuracy                           1.00     59260\n",
      "   macro avg       1.00      1.00      1.00     59260\n",
      "weighted avg       1.00      1.00      1.00     59260\n",
      "\n",
      "---\n",
      "Melhor estimador:  KNN\n",
      "Pontuação de acurácia:  1.0\n"
     ]
    }
   ],
   "source": [
    "from sklearn.model_selection import cross_val_predict\n",
    "from sklearn.metrics import classification_report, accuracy_score\n",
    "\n",
    "# Realize a validação cruzada e obtenha as previsões do modelo\n",
    "y_pred = cross_val_predict(clf, X, y, cv=StratifiedKFold(n_splits=5, shuffle=True, random_state=42))\n",
    "\n",
    "# Calcule e exiba o classification report para cada estimador\n",
    "for name, estimator in est_Ensemble.estimators:\n",
    "    estimator.fit(X, y)  # Treine o estimador\n",
    "    y_pred_estimator = estimator.predict(X)  # Faça previsões\n",
    "    report = classification_report(y, y_pred_estimator)\n",
    "    print(f\"Estimador: {name}\")\n",
    "    print(report)\n",
    "    print(\"---\")\n",
    "\n",
    "# Encontre o estimador com o melhor desempenho\n",
    "best_estimator_name = None\n",
    "best_estimator_score = 0.0\n",
    "\n",
    "for name, estimator in est_Ensemble.estimators:\n",
    "    estimator.fit(X, y)  # Treine o estimador\n",
    "    y_pred_estimator = estimator.predict(X)  # Faça previsões\n",
    "    accuracy = accuracy_score(y, y_pred_estimator)\n",
    "    if accuracy > best_estimator_score:\n",
    "        best_estimator_score = accuracy\n",
    "        best_estimator_name = name\n",
    "\n",
    "# Exiba o melhor estimador\n",
    "print(\"Melhor estimador: \", best_estimator_name)\n",
    "print(\"Pontuação de acurácia: \", best_estimator_score)\n"
   ]
  },
  {
   "cell_type": "code",
   "execution_count": null,
   "id": "6c2d20f4",
   "metadata": {
    "id": "6c2d20f4"
   },
   "outputs": [],
   "source": []
  }
 ],
 "metadata": {
  "colab": {
   "provenance": []
  },
  "kernelspec": {
   "display_name": "Python 3 (ipykernel)",
   "language": "python",
   "name": "python3"
  },
  "language_info": {
   "codemirror_mode": {
    "name": "ipython",
    "version": 3
   },
   "file_extension": ".py",
   "mimetype": "text/x-python",
   "name": "python",
   "nbconvert_exporter": "python",
   "pygments_lexer": "ipython3",
   "version": "3.10.9"
  }
 },
 "nbformat": 4,
 "nbformat_minor": 5
}
