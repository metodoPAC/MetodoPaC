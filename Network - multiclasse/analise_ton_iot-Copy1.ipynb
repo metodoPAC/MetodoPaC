{
 "cells": [
  {
   "cell_type": "code",
   "execution_count": 1,
   "id": "2932f4ef",
   "metadata": {},
   "outputs": [],
   "source": [
    "import warnings\n",
    "warnings.filterwarnings(\"ignore\")"
   ]
  },
  {
   "cell_type": "code",
   "execution_count": 2,
   "id": "6872ffb3",
   "metadata": {},
   "outputs": [],
   "source": [
    "from sklearn.model_selection import StratifiedKFold\n",
    "from sklearn.preprocessing import StandardScaler, MinMaxScaler\n",
    "from sklearn.neighbors import KNeighborsClassifier\n",
    "from sklearn.metrics import classification_report\n",
    "from sklearn.ensemble import RandomForestClassifier\n",
    "from sklearn.ensemble import GradientBoostingClassifier\n",
    "from sklearn.neural_network import MLPClassifier\n",
    "from sklearn.naive_bayes import GaussianNB\n",
    "from sklearn.svm import SVC\n",
    "from sklearn import linear_model\n",
    "from sklearn import tree\n",
    "import matplotlib.pyplot as plt\n",
    "from sklearn.metrics import ConfusionMatrixDisplay, confusion_matrix\n",
    "from sklearn.pipeline import Pipeline\n",
    "\n",
    "from sklearn.pipeline import make_pipeline\n",
    "from sklearn.model_selection import cross_val_score\n",
    "from sklearn.compose import ColumnTransformer\n",
    "from category_encoders import *\n",
    "from sklearn.preprocessing import OrdinalEncoder, LabelEncoder\n",
    "from sklearn.model_selection import GridSearchCV\n",
    "\n",
    "import os\n",
    "import pandas as pd\n",
    "import numpy as np\n",
    "\n",
    "from sklearn.metrics import classification_report, accuracy_score, make_scorer"
   ]
  },
  {
   "cell_type": "markdown",
   "id": "f040b61f",
   "metadata": {},
   "source": [
    "# carregando dataset"
   ]
  },
  {
   "cell_type": "code",
   "execution_count": 3,
   "id": "18ff665b",
   "metadata": {},
   "outputs": [
    {
     "data": {
      "text/plain": [
       "(461043, 45)"
      ]
     },
     "execution_count": 3,
     "metadata": {},
     "output_type": "execute_result"
    }
   ],
   "source": [
    "df = pd.read_csv('Train_Test_Network.csv')\n",
    "df = df.replace('-', None)\n",
    "df.shape"
   ]
  },
  {
   "cell_type": "code",
   "execution_count": 4,
   "id": "4586642f",
   "metadata": {},
   "outputs": [],
   "source": [
    "# determine categorical and numerical features\n",
    "numerical_ix = df.select_dtypes(include=['int64', 'float64']).columns\n",
    "categorical_ix = df.select_dtypes(include=['object', 'bool']).columns\n"
   ]
  },
  {
   "cell_type": "code",
   "execution_count": 5,
   "id": "c6761e29",
   "metadata": {},
   "outputs": [
    {
     "data": {
      "text/html": [
       "<div>\n",
       "<style scoped>\n",
       "    .dataframe tbody tr th:only-of-type {\n",
       "        vertical-align: middle;\n",
       "    }\n",
       "\n",
       "    .dataframe tbody tr th {\n",
       "        vertical-align: top;\n",
       "    }\n",
       "\n",
       "    .dataframe thead th {\n",
       "        text-align: right;\n",
       "    }\n",
       "</style>\n",
       "<table border=\"1\" class=\"dataframe\">\n",
       "  <thead>\n",
       "    <tr style=\"text-align: right;\">\n",
       "      <th></th>\n",
       "      <th>ts</th>\n",
       "      <th>src_ip</th>\n",
       "      <th>src_port</th>\n",
       "      <th>dst_ip</th>\n",
       "      <th>dst_port</th>\n",
       "      <th>proto</th>\n",
       "      <th>service</th>\n",
       "      <th>duration</th>\n",
       "      <th>src_bytes</th>\n",
       "      <th>dst_bytes</th>\n",
       "      <th>...</th>\n",
       "      <th>http_response_body_len</th>\n",
       "      <th>http_status_code</th>\n",
       "      <th>http_user_agent</th>\n",
       "      <th>http_orig_mime_types</th>\n",
       "      <th>http_resp_mime_types</th>\n",
       "      <th>weird_name</th>\n",
       "      <th>weird_addl</th>\n",
       "      <th>weird_notice</th>\n",
       "      <th>label</th>\n",
       "      <th>type</th>\n",
       "    </tr>\n",
       "  </thead>\n",
       "  <tbody>\n",
       "    <tr>\n",
       "      <th>0</th>\n",
       "      <td>1554198358</td>\n",
       "      <td>3.122.49.24</td>\n",
       "      <td>1883</td>\n",
       "      <td>192.168.1.152</td>\n",
       "      <td>52976</td>\n",
       "      <td>tcp</td>\n",
       "      <td>None</td>\n",
       "      <td>80549.530260</td>\n",
       "      <td>1762852</td>\n",
       "      <td>41933215</td>\n",
       "      <td>...</td>\n",
       "      <td>0</td>\n",
       "      <td>0</td>\n",
       "      <td>None</td>\n",
       "      <td>None</td>\n",
       "      <td>None</td>\n",
       "      <td>bad_TCP_checksum</td>\n",
       "      <td>None</td>\n",
       "      <td>F</td>\n",
       "      <td>0</td>\n",
       "      <td>normal</td>\n",
       "    </tr>\n",
       "    <tr>\n",
       "      <th>1</th>\n",
       "      <td>1554198358</td>\n",
       "      <td>192.168.1.79</td>\n",
       "      <td>47260</td>\n",
       "      <td>192.168.1.255</td>\n",
       "      <td>15600</td>\n",
       "      <td>udp</td>\n",
       "      <td>None</td>\n",
       "      <td>0.000000</td>\n",
       "      <td>0</td>\n",
       "      <td>0</td>\n",
       "      <td>...</td>\n",
       "      <td>0</td>\n",
       "      <td>0</td>\n",
       "      <td>None</td>\n",
       "      <td>None</td>\n",
       "      <td>None</td>\n",
       "      <td>None</td>\n",
       "      <td>None</td>\n",
       "      <td>None</td>\n",
       "      <td>0</td>\n",
       "      <td>normal</td>\n",
       "    </tr>\n",
       "    <tr>\n",
       "      <th>2</th>\n",
       "      <td>1554198359</td>\n",
       "      <td>192.168.1.152</td>\n",
       "      <td>1880</td>\n",
       "      <td>192.168.1.152</td>\n",
       "      <td>51782</td>\n",
       "      <td>tcp</td>\n",
       "      <td>None</td>\n",
       "      <td>0.000000</td>\n",
       "      <td>0</td>\n",
       "      <td>0</td>\n",
       "      <td>...</td>\n",
       "      <td>0</td>\n",
       "      <td>0</td>\n",
       "      <td>None</td>\n",
       "      <td>None</td>\n",
       "      <td>None</td>\n",
       "      <td>bad_TCP_checksum</td>\n",
       "      <td>None</td>\n",
       "      <td>F</td>\n",
       "      <td>0</td>\n",
       "      <td>normal</td>\n",
       "    </tr>\n",
       "    <tr>\n",
       "      <th>3</th>\n",
       "      <td>1554198359</td>\n",
       "      <td>192.168.1.152</td>\n",
       "      <td>34296</td>\n",
       "      <td>192.168.1.152</td>\n",
       "      <td>10502</td>\n",
       "      <td>tcp</td>\n",
       "      <td>None</td>\n",
       "      <td>0.000000</td>\n",
       "      <td>0</td>\n",
       "      <td>0</td>\n",
       "      <td>...</td>\n",
       "      <td>0</td>\n",
       "      <td>0</td>\n",
       "      <td>None</td>\n",
       "      <td>None</td>\n",
       "      <td>None</td>\n",
       "      <td>None</td>\n",
       "      <td>None</td>\n",
       "      <td>None</td>\n",
       "      <td>0</td>\n",
       "      <td>normal</td>\n",
       "    </tr>\n",
       "    <tr>\n",
       "      <th>4</th>\n",
       "      <td>1554198362</td>\n",
       "      <td>192.168.1.152</td>\n",
       "      <td>46608</td>\n",
       "      <td>192.168.1.190</td>\n",
       "      <td>53</td>\n",
       "      <td>udp</td>\n",
       "      <td>dns</td>\n",
       "      <td>0.000549</td>\n",
       "      <td>0</td>\n",
       "      <td>298</td>\n",
       "      <td>...</td>\n",
       "      <td>0</td>\n",
       "      <td>0</td>\n",
       "      <td>None</td>\n",
       "      <td>None</td>\n",
       "      <td>None</td>\n",
       "      <td>bad_UDP_checksum</td>\n",
       "      <td>None</td>\n",
       "      <td>F</td>\n",
       "      <td>0</td>\n",
       "      <td>normal</td>\n",
       "    </tr>\n",
       "  </tbody>\n",
       "</table>\n",
       "<p>5 rows × 45 columns</p>\n",
       "</div>"
      ],
      "text/plain": [
       "           ts         src_ip  src_port         dst_ip  dst_port proto service  \\\n",
       "0  1554198358    3.122.49.24      1883  192.168.1.152     52976   tcp    None   \n",
       "1  1554198358   192.168.1.79     47260  192.168.1.255     15600   udp    None   \n",
       "2  1554198359  192.168.1.152      1880  192.168.1.152     51782   tcp    None   \n",
       "3  1554198359  192.168.1.152     34296  192.168.1.152     10502   tcp    None   \n",
       "4  1554198362  192.168.1.152     46608  192.168.1.190        53   udp     dns   \n",
       "\n",
       "       duration  src_bytes  dst_bytes  ... http_response_body_len  \\\n",
       "0  80549.530260    1762852   41933215  ...                      0   \n",
       "1      0.000000          0          0  ...                      0   \n",
       "2      0.000000          0          0  ...                      0   \n",
       "3      0.000000          0          0  ...                      0   \n",
       "4      0.000549          0        298  ...                      0   \n",
       "\n",
       "   http_status_code  http_user_agent  http_orig_mime_types  \\\n",
       "0                 0             None                  None   \n",
       "1                 0             None                  None   \n",
       "2                 0             None                  None   \n",
       "3                 0             None                  None   \n",
       "4                 0             None                  None   \n",
       "\n",
       "   http_resp_mime_types        weird_name weird_addl  weird_notice  label  \\\n",
       "0                  None  bad_TCP_checksum       None             F      0   \n",
       "1                  None              None       None          None      0   \n",
       "2                  None  bad_TCP_checksum       None             F      0   \n",
       "3                  None              None       None          None      0   \n",
       "4                  None  bad_UDP_checksum       None             F      0   \n",
       "\n",
       "     type  \n",
       "0  normal  \n",
       "1  normal  \n",
       "2  normal  \n",
       "3  normal  \n",
       "4  normal  \n",
       "\n",
       "[5 rows x 45 columns]"
      ]
     },
     "execution_count": 5,
     "metadata": {},
     "output_type": "execute_result"
    }
   ],
   "source": [
    "df.head()"
   ]
  },
  {
   "cell_type": "code",
   "execution_count": 6,
   "id": "2b0750ce",
   "metadata": {},
   "outputs": [],
   "source": [
    "for cat in categorical_ix:\n",
    "    df[cat].fillna(df[cat].mode()[0], inplace=True)"
   ]
  },
  {
   "cell_type": "code",
   "execution_count": 7,
   "id": "86615d67",
   "metadata": {},
   "outputs": [],
   "source": [
    "X = df.drop(['label', 'type', 'src_ip', 'dst_ip', 'ts'], axis=1)#.values\n",
    "y = df['type'].values\n",
    "\n",
    "y = LabelEncoder().fit_transform(y)"
   ]
  },
  {
   "cell_type": "code",
   "execution_count": 8,
   "id": "d688c2ae",
   "metadata": {},
   "outputs": [],
   "source": [
    "from sklearn.model_selection import train_test_split\n",
    "X, X_test, y, y_test = train_test_split(X, y, test_size=0.80, random_state=42, stratify=y)"
   ]
  },
  {
   "cell_type": "code",
   "execution_count": 9,
   "id": "d85a6689",
   "metadata": {},
   "outputs": [],
   "source": [
    "# determine categorical and numerical features\n",
    "numerical_ix = X.select_dtypes(include=['int64', 'float64']).columns\n",
    "categorical_ix = X.select_dtypes(include=['object', 'bool']).columns\n",
    "\n",
    "def classification_report_with_accuracy_score(y_true, y_pred):\n",
    "    print (classification_report(y_true, y_pred) )# print classification report\n",
    "    return accuracy_score(y_true, y_pred) # return accuracy score"
   ]
  },
  {
   "cell_type": "code",
   "execution_count": 11,
   "id": "6459b0d4",
   "metadata": {
    "scrolled": true
   },
   "outputs": [
    {
     "data": {
      "text/plain": [
       "{'mlp__activation': 'tanh',\n",
       " 'mlp__alpha': 0.01,\n",
       " 'mlp__hidden_layer_sizes': (100, 100),\n",
       " 'mlp__learning_rate': 'constant',\n",
       " 'mlp__max_iter': 100,\n",
       " 'mlp__solver': 'sgd',\n",
       " 'mlp__verbose': True}"
      ]
     },
     "execution_count": 11,
     "metadata": {},
     "output_type": "execute_result"
    }
   ],
   "source": [
    "search.best_params_"
   ]
  },
  {
   "cell_type": "code",
   "execution_count": 10,
   "id": "d6dbbaf9",
   "metadata": {
    "scrolled": true
   },
   "outputs": [
    {
     "name": "stderr",
     "output_type": "stream",
     "text": [
      "[Parallel(n_jobs=1)]: Using backend SequentialBackend with 1 concurrent workers.\n"
     ]
    },
    {
     "name": "stdout",
     "output_type": "stream",
     "text": [
      "Iteration 1, loss = 1.40901005\n",
      "Iteration 2, loss = 1.38781660\n",
      "Iteration 3, loss = 1.38647078\n",
      "Iteration 4, loss = 1.38662633\n",
      "Iteration 5, loss = 1.38637368\n",
      "Iteration 6, loss = 1.38629290\n",
      "Iteration 7, loss = 1.38620620\n",
      "Iteration 8, loss = 1.38613224\n",
      "Iteration 9, loss = 1.38637033\n",
      "Iteration 10, loss = 1.38606287\n",
      "Iteration 11, loss = 1.38600257\n",
      "Iteration 12, loss = 1.38598981\n",
      "Iteration 13, loss = 1.38570335\n",
      "Iteration 14, loss = 1.38595497\n",
      "Iteration 15, loss = 1.38592871\n",
      "Iteration 16, loss = 1.38587868\n",
      "Iteration 17, loss = 1.38553036\n",
      "Iteration 18, loss = 1.38584824\n",
      "Iteration 19, loss = 1.38594920\n",
      "Iteration 20, loss = 1.38597611\n",
      "Iteration 21, loss = 1.38585255\n",
      "Iteration 22, loss = 1.38583713\n",
      "Iteration 23, loss = 1.38581566\n",
      "Iteration 24, loss = 1.38581960\n",
      "Iteration 25, loss = 1.38593317\n",
      "Iteration 26, loss = 1.38587073\n",
      "Iteration 27, loss = 1.38602098\n",
      "Iteration 28, loss = 1.38580645\n",
      "Training loss did not improve more than tol=0.000100 for 10 consecutive epochs. Stopping.\n",
      "Iteration 1, loss = 1.42544390\n",
      "Iteration 2, loss = 1.38969998\n",
      "Iteration 3, loss = 1.38790509\n",
      "Iteration 4, loss = 1.38693525\n",
      "Iteration 5, loss = 1.38640291\n",
      "Iteration 6, loss = 1.38628670\n",
      "Iteration 7, loss = 1.38625876\n",
      "Iteration 8, loss = 1.38631309\n",
      "Iteration 9, loss = 1.38634402\n",
      "Iteration 10, loss = 1.38608630\n",
      "Iteration 11, loss = 1.38631892\n",
      "Iteration 12, loss = 1.38636255\n",
      "Iteration 13, loss = 1.38627088\n",
      "Iteration 14, loss = 1.38608697\n",
      "Iteration 15, loss = 1.38609840\n",
      "Iteration 16, loss = 1.38615700\n",
      "Iteration 17, loss = 1.38623221\n",
      "Iteration 18, loss = 1.38587876\n",
      "Iteration 19, loss = 1.38586482\n",
      "Iteration 20, loss = 1.38603193\n",
      "Iteration 21, loss = 1.38613444\n",
      "Iteration 22, loss = 1.38585136\n",
      "Iteration 23, loss = 1.38605144\n",
      "Iteration 24, loss = 1.38600061\n",
      "Iteration 25, loss = 1.38570732\n",
      "Iteration 26, loss = 1.38596787\n",
      "Iteration 27, loss = 1.38604974\n",
      "Iteration 28, loss = 1.38591871\n",
      "Iteration 29, loss = 1.38609467\n",
      "Iteration 30, loss = 1.38578955\n",
      "Iteration 31, loss = 1.38577416\n",
      "Iteration 32, loss = 1.38577602\n",
      "Iteration 33, loss = 1.38639520\n",
      "Iteration 34, loss = 1.38587433\n",
      "Iteration 35, loss = 1.38593987\n",
      "Iteration 36, loss = 1.38610006\n",
      "Training loss did not improve more than tol=0.000100 for 10 consecutive epochs. Stopping.\n",
      "Iteration 1, loss = 1.41943419\n",
      "Iteration 2, loss = 1.38842995\n"
     ]
    },
    {
     "name": "stderr",
     "output_type": "stream",
     "text": [
      "[Parallel(n_jobs=1)]: Done   5 out of   5 | elapsed:  6.7min finished\n"
     ]
    },
    {
     "data": {
      "text/plain": [
       "array([nan, nan, nan, nan, nan])"
      ]
     },
     "execution_count": 10,
     "metadata": {},
     "output_type": "execute_result"
    }
   ],
   "source": [
    "enc = OrdinalEncoder()\n",
    "# enc = JamesSteinEncoder(cols=categorical_ix)\n",
    "# enc = OneHotEncoder()\n",
    "\n",
    "ct = ColumnTransformer(\n",
    "    [(\"text_preprocess\", enc, categorical_ix),\n",
    "     ('num_preprocess', MinMaxScaler(), numerical_ix)])\n",
    "\n",
    "clf = make_pipeline(ct,\n",
    "                    MLPClassifier(activation='tanh',\n",
    "                                  alpha=0.01,\n",
    "                                  hidden_layer_sizes=(100, 100),\n",
    "                                  learning_rate='constant',\n",
    "                                  max_iter=500,\n",
    "                                  solver='sgd',\n",
    "                                  verbose=True))\n",
    "\n",
    "scores = cross_val_score(\n",
    "    clf, \n",
    "    X, \n",
    "    y, \n",
    "    cv = StratifiedKFold(n_splits=5, shuffle=True, random_state=42), \n",
    "    scoring=make_scorer(classification_report_with_accuracy_score), verbose=1)\n",
    "scores"
   ]
  },
  {
   "cell_type": "code",
   "execution_count": 14,
   "id": "3949dd83",
   "metadata": {},
   "outputs": [
    {
     "data": {
      "text/plain": [
       "array([2.00000000e+00, 2.00000000e+00, 6.00000000e+00, 3.37000000e+03,\n",
       "       0.00000000e+00, 0.00000000e+00, 0.00000000e+00, 0.00000000e+00,\n",
       "       0.00000000e+00, 1.00000000e+00, 0.00000000e+00, 0.00000000e+00,\n",
       "       0.00000000e+00, 0.00000000e+00, 0.00000000e+00, 0.00000000e+00,\n",
       "       2.70000000e+01, 0.00000000e+00, 6.00000000e+00, 1.00000000e+00,\n",
       "       3.00000000e+00, 0.00000000e+00, 0.00000000e+00, 0.00000000e+00,\n",
       "       7.44617216e-01, 9.70486800e-01, 0.00000000e+00, 0.00000000e+00,\n",
       "       0.00000000e+00, 0.00000000e+00, 2.16628396e-05, 1.54304380e-05,\n",
       "       0.00000000e+00, 0.00000000e+00, 0.00000000e+00, 0.00000000e+00,\n",
       "       0.00000000e+00, 0.00000000e+00, 0.00000000e+00, 0.00000000e+00])"
      ]
     },
     "execution_count": 14,
     "metadata": {},
     "output_type": "execute_result"
    }
   ],
   "source": [
    "ct.fit_transform(X)[0]"
   ]
  },
  {
   "cell_type": "code",
   "execution_count": null,
   "id": "fc85d202",
   "metadata": {},
   "outputs": [],
   "source": []
  },
  {
   "cell_type": "code",
   "execution_count": null,
   "id": "88ecebf8",
   "metadata": {},
   "outputs": [],
   "source": []
  },
  {
   "cell_type": "code",
   "execution_count": null,
   "id": "9686eef6",
   "metadata": {},
   "outputs": [],
   "source": []
  },
  {
   "cell_type": "code",
   "execution_count": null,
   "id": "22c0544b",
   "metadata": {},
   "outputs": [],
   "source": []
  },
  {
   "cell_type": "code",
   "execution_count": null,
   "id": "8203de4d",
   "metadata": {},
   "outputs": [],
   "source": []
  },
  {
   "cell_type": "code",
   "execution_count": null,
   "id": "7d774159",
   "metadata": {},
   "outputs": [],
   "source": []
  }
 ],
 "metadata": {
  "kernelspec": {
   "display_name": "Python 3 (ipykernel)",
   "language": "python",
   "name": "python3"
  },
  "language_info": {
   "codemirror_mode": {
    "name": "ipython",
    "version": 3
   },
   "file_extension": ".py",
   "mimetype": "text/x-python",
   "name": "python",
   "nbconvert_exporter": "python",
   "pygments_lexer": "ipython3",
   "version": "3.10.6"
  }
 },
 "nbformat": 4,
 "nbformat_minor": 5
}
