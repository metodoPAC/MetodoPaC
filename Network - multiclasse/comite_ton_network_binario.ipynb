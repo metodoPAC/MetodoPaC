{
 "cells": [
  {
   "cell_type": "code",
   "execution_count": 1,
   "id": "93f77741",
   "metadata": {},
   "outputs": [],
   "source": [
    "import warnings\n",
    "warnings.filterwarnings(\"ignore\")"
   ]
  },
  {
   "cell_type": "code",
   "execution_count": 2,
   "id": "6872ffb3",
   "metadata": {},
   "outputs": [],
   "source": [
    "from sklearn.preprocessing import StandardScaler, MinMaxScaler\n",
    "from sklearn.model_selection import StratifiedKFold\n",
    "\n",
    "from sklearn.metrics import classification_report\n",
    "from sklearn.ensemble import RandomForestClassifier\n",
    "from sklearn import tree\n",
    "import matplotlib.pyplot as plt\n",
    "from sklearn.metrics import ConfusionMatrixDisplay, confusion_matrix\n",
    "from sklearn.pipeline import Pipeline\n",
    "\n",
    "from sklearn.pipeline import make_pipeline\n",
    "from sklearn.model_selection import cross_val_score\n",
    "from sklearn.compose import ColumnTransformer\n",
    "\n",
    "from sklearn.preprocessing import OrdinalEncoder, LabelEncoder\n",
    "from sklearn.model_selection import GridSearchCV\n",
    "from sklearn.neural_network import MLPClassifier\n",
    "\n",
    "import os\n",
    "import pandas as pd\n",
    "import numpy as np\n",
    "\n",
    "from sklearn.metrics import classification_report, accuracy_score, make_scorer"
   ]
  },
  {
   "cell_type": "markdown",
   "id": "f040b61f",
   "metadata": {},
   "source": [
    "# carregando dataset"
   ]
  },
  {
   "cell_type": "code",
   "execution_count": 3,
   "id": "8f4b3dca",
   "metadata": {},
   "outputs": [
    {
     "data": {
      "text/plain": [
       "(461043, 45)"
      ]
     },
     "execution_count": 3,
     "metadata": {},
     "output_type": "execute_result"
    }
   ],
   "source": [
    "df = pd.read_csv('../Train_Test_Network.csv')\n",
    "df = df.replace('-', None)\n",
    "df.shape"
   ]
  },
  {
   "cell_type": "markdown",
   "id": "b81551cb",
   "metadata": {},
   "source": [
    "# removendo colunas com NaN e colunas que dão spoiler das classes (ts, ip)"
   ]
  },
  {
   "cell_type": "code",
   "execution_count": 8,
   "id": "e5d74abd",
   "metadata": {},
   "outputs": [],
   "source": [
    "df = df.dropna(axis=1)\n",
    "\n",
    "X = df.drop(['label', 'type', 'src_ip', 'dst_ip', 'ts'], axis=1)#.values\n",
    "y = df['label'].values"
   ]
  },
  {
   "cell_type": "code",
   "execution_count": 9,
   "id": "280bec37",
   "metadata": {},
   "outputs": [],
   "source": [
    "from sklearn.model_selection import train_test_split\n",
    "X_train, X_test, y_train, y_test = train_test_split(X, y, test_size=0.20, random_state=42, stratify=y)"
   ]
  },
  {
   "cell_type": "markdown",
   "id": "a81beebb",
   "metadata": {},
   "source": [
    "# mudando tipo das colunas e definindo função de métricas"
   ]
  },
  {
   "cell_type": "code",
   "execution_count": 10,
   "id": "101308b7",
   "metadata": {},
   "outputs": [],
   "source": [
    "# determine categorical and numerical features\n",
    "numerical_ix = X.select_dtypes(include=['int64', 'float64']).columns\n",
    "categorical_ix = X.select_dtypes(include=['object', 'bool']).columns\n",
    "\n",
    "def classification_report_with_accuracy_score(y_true, y_pred):\n",
    "    print (classification_report(y_true, y_pred) )# print classification report\n",
    "    return accuracy_score(y_true, y_pred) # return accuracy score"
   ]
  },
  {
   "cell_type": "markdown",
   "id": "7816a62a",
   "metadata": {},
   "source": [
    "# comitê"
   ]
  },
  {
   "cell_type": "code",
   "execution_count": 11,
   "id": "e5459c5e",
   "metadata": {},
   "outputs": [],
   "source": [
    "from sklearn.ensemble import VotingClassifier\n",
    "\n",
    "est_AB = RandomForestClassifier(criterion= 'log_loss', \n",
    "                       max_depth= 8, \n",
    "                       max_features= 'log2', \n",
    "                       min_samples_split= 4, \n",
    "                       n_estimators= 300)\n",
    "\n",
    "est_RF = tree.DecisionTreeClassifier(criterion='log_loss',\n",
    "                                               min_samples_split=2,\n",
    "                                               splitter='best')\n",
    "\n",
    "est_MLP = MLPClassifier(activation='tanh',\n",
    "                                  alpha=0.001,\n",
    "                                  hidden_layer_sizes=(100, 100),\n",
    "                                  learning_rate='adaptive',\n",
    "                                  max_iter=200,\n",
    "                                  solver='adam',\n",
    "                                  verbose=True)\n",
    "\n",
    "est_Ensemble = VotingClassifier(estimators=[('AB', est_AB), ('RF', est_RF), ('MLP', est_MLP)],\n",
    "                        voting='soft')"
   ]
  },
  {
   "cell_type": "code",
   "execution_count": 12,
   "id": "6a12d584",
   "metadata": {
    "scrolled": true
   },
   "outputs": [],
   "source": [
    "enc = OrdinalEncoder()\n",
    "\n",
    "ct = ColumnTransformer(\n",
    "    [(\"text_preprocess\", enc, categorical_ix),\n",
    "     ('num_preprocess', MinMaxScaler(), numerical_ix)])\n",
    "\n",
    "clf = make_pipeline(est_Ensemble)\n",
    "\n",
    "X_train = ct.fit_transform(X_train)\n",
    "X_test = ct.transform(X_test)\n",
    "\n",
    "scores = cross_val_score(\n",
    "    clf, \n",
    "    X_train, \n",
    "    y_train, \n",
    "    cv = StratifiedKFold(n_splits=5, shuffle=True, random_state=42), \n",
    "    scoring=make_scorer(classification_report_with_accuracy_score), verbose=1)\n",
    "scores"
   ]
  },
  {
   "cell_type": "code",
   "execution_count": 13,
   "id": "6138ae99",
   "metadata": {
    "scrolled": true
   },
   "outputs": [
    {
     "name": "stdout",
     "output_type": "stream",
     "text": [
      "Iteration 1, loss = 0.30743776\n",
      "Iteration 2, loss = 0.22824350\n",
      "Iteration 3, loss = 0.19223812\n",
      "Iteration 4, loss = 0.17109320\n",
      "Iteration 5, loss = 0.15832943\n",
      "Iteration 6, loss = 0.15126205\n",
      "Iteration 7, loss = 0.14723932\n",
      "Iteration 8, loss = 0.14492918\n",
      "Iteration 9, loss = 0.14248028\n",
      "Iteration 10, loss = 0.13990827\n",
      "Iteration 11, loss = 0.13748401\n",
      "Iteration 12, loss = 0.13558243\n",
      "Iteration 13, loss = 0.13331579\n",
      "Iteration 14, loss = 0.13057849\n",
      "Iteration 15, loss = 0.12899526\n",
      "Iteration 16, loss = 0.12821707\n",
      "Iteration 17, loss = 0.12729760\n",
      "Iteration 18, loss = 0.12647812\n",
      "Iteration 19, loss = 0.12615280\n",
      "Iteration 20, loss = 0.12546846\n",
      "Iteration 21, loss = 0.12524428\n",
      "Iteration 22, loss = 0.12496866\n",
      "Iteration 23, loss = 0.12448361\n",
      "Iteration 24, loss = 0.12439990\n",
      "Iteration 25, loss = 0.12407551\n",
      "Iteration 26, loss = 0.12370588\n",
      "Iteration 27, loss = 0.12339246\n",
      "Iteration 28, loss = 0.12327186\n",
      "Iteration 29, loss = 0.12322788\n",
      "Iteration 30, loss = 0.12266058\n",
      "Iteration 31, loss = 0.12283170\n",
      "Iteration 32, loss = 0.12258425\n",
      "Iteration 33, loss = 0.12255168\n",
      "Iteration 34, loss = 0.12251024\n",
      "Iteration 35, loss = 0.12233092\n",
      "Iteration 36, loss = 0.12202788\n",
      "Iteration 37, loss = 0.12183825\n",
      "Iteration 38, loss = 0.12185452\n",
      "Iteration 39, loss = 0.12194635\n",
      "Iteration 40, loss = 0.12158183\n",
      "Iteration 41, loss = 0.12162135\n",
      "Iteration 42, loss = 0.12119072\n",
      "Iteration 43, loss = 0.12109591\n",
      "Iteration 44, loss = 0.12099732\n",
      "Iteration 45, loss = 0.12098024\n",
      "Iteration 46, loss = 0.12111905\n",
      "Iteration 47, loss = 0.12075218\n",
      "Iteration 48, loss = 0.12073074\n",
      "Iteration 49, loss = 0.12060654\n",
      "Iteration 50, loss = 0.12058940\n",
      "Iteration 51, loss = 0.12060407\n",
      "Iteration 52, loss = 0.12042826\n",
      "Iteration 53, loss = 0.12012968\n",
      "Iteration 54, loss = 0.12057227\n",
      "Iteration 55, loss = 0.12037506\n",
      "Iteration 56, loss = 0.12012898\n",
      "Iteration 57, loss = 0.12009476\n",
      "Iteration 58, loss = 0.12026623\n",
      "Iteration 59, loss = 0.11998764\n",
      "Iteration 60, loss = 0.12005604\n",
      "Iteration 61, loss = 0.11997211\n",
      "Iteration 62, loss = 0.11995608\n",
      "Iteration 63, loss = 0.11989681\n",
      "Iteration 64, loss = 0.11964054\n",
      "Iteration 65, loss = 0.11978218\n",
      "Iteration 66, loss = 0.11954370\n",
      "Iteration 67, loss = 0.11985295\n",
      "Iteration 68, loss = 0.11972930\n",
      "Iteration 69, loss = 0.11954429\n",
      "Iteration 70, loss = 0.11942417\n",
      "Iteration 71, loss = 0.11938398\n",
      "Iteration 72, loss = 0.11943174\n",
      "Iteration 73, loss = 0.11941793\n",
      "Iteration 74, loss = 0.11931024\n",
      "Iteration 75, loss = 0.11915393\n",
      "Iteration 76, loss = 0.11892614\n",
      "Iteration 77, loss = 0.11886548\n",
      "Iteration 78, loss = 0.11875820\n",
      "Iteration 79, loss = 0.11887964\n",
      "Iteration 80, loss = 0.11871947\n",
      "Iteration 81, loss = 0.11868924\n",
      "Iteration 82, loss = 0.11866775\n",
      "Iteration 83, loss = 0.11838400\n",
      "Iteration 84, loss = 0.11846173\n",
      "Iteration 85, loss = 0.11853551\n",
      "Iteration 86, loss = 0.11860728\n",
      "Iteration 87, loss = 0.11833655\n",
      "Iteration 88, loss = 0.11802141\n",
      "Iteration 89, loss = 0.11815495\n",
      "Iteration 90, loss = 0.11846356\n",
      "Iteration 91, loss = 0.11824369\n",
      "Iteration 92, loss = 0.11814515\n",
      "Iteration 93, loss = 0.11821192\n",
      "Iteration 94, loss = 0.11806344\n",
      "Iteration 95, loss = 0.11817536\n",
      "Iteration 96, loss = 0.11792271\n",
      "Iteration 97, loss = 0.11795818\n",
      "Iteration 98, loss = 0.11781494\n",
      "Iteration 99, loss = 0.11778084\n",
      "Iteration 100, loss = 0.11766835\n",
      "Iteration 101, loss = 0.11760606\n",
      "Iteration 102, loss = 0.11754867\n",
      "Iteration 103, loss = 0.11748332\n",
      "Iteration 104, loss = 0.11726574\n",
      "Iteration 105, loss = 0.11750718\n",
      "Iteration 106, loss = 0.11739723\n",
      "Iteration 107, loss = 0.11749362\n",
      "Iteration 108, loss = 0.11740545\n",
      "Iteration 109, loss = 0.11745317\n",
      "Iteration 110, loss = 0.11733099\n",
      "Iteration 111, loss = 0.11740252\n",
      "Iteration 112, loss = 0.11712366\n",
      "Iteration 113, loss = 0.11702881\n",
      "Iteration 114, loss = 0.11705848\n",
      "Iteration 115, loss = 0.11697080\n",
      "Iteration 116, loss = 0.11701501\n",
      "Iteration 117, loss = 0.11691723\n",
      "Iteration 118, loss = 0.11694158\n",
      "Iteration 119, loss = 0.11656742\n",
      "Iteration 120, loss = 0.11677324\n",
      "Iteration 121, loss = 0.11666939\n",
      "Iteration 122, loss = 0.11661751\n",
      "Iteration 123, loss = 0.11668962\n",
      "Iteration 124, loss = 0.11671912\n",
      "Iteration 125, loss = 0.11675010\n",
      "Iteration 126, loss = 0.11651821\n",
      "Iteration 127, loss = 0.11655587\n",
      "Iteration 128, loss = 0.11652123\n",
      "Iteration 129, loss = 0.11656169\n",
      "Iteration 130, loss = 0.11632878\n",
      "Iteration 131, loss = 0.11661495\n",
      "Iteration 132, loss = 0.11629618\n",
      "Iteration 133, loss = 0.11630698\n",
      "Iteration 134, loss = 0.11626315\n",
      "Iteration 135, loss = 0.11615191\n",
      "Iteration 136, loss = 0.11612845\n",
      "Iteration 137, loss = 0.11622467\n",
      "Iteration 138, loss = 0.11582750\n",
      "Iteration 139, loss = 0.11573163\n",
      "Iteration 140, loss = 0.11612813\n",
      "Iteration 141, loss = 0.11578542\n",
      "Iteration 142, loss = 0.11583748\n",
      "Iteration 143, loss = 0.11584025\n",
      "Iteration 144, loss = 0.11594195\n",
      "Iteration 145, loss = 0.11584656\n",
      "Iteration 146, loss = 0.11592899\n",
      "Iteration 147, loss = 0.11571422\n",
      "Iteration 148, loss = 0.11555603\n",
      "Iteration 149, loss = 0.11563606\n",
      "Iteration 150, loss = 0.11566942\n",
      "Iteration 151, loss = 0.11557981\n",
      "Iteration 152, loss = 0.11556437\n",
      "Iteration 153, loss = 0.11558058\n",
      "Iteration 154, loss = 0.11561309\n",
      "Iteration 155, loss = 0.11557278\n",
      "Iteration 156, loss = 0.11537187\n",
      "Iteration 157, loss = 0.11523476\n",
      "Iteration 158, loss = 0.11528913\n",
      "Iteration 159, loss = 0.11561275\n",
      "Iteration 160, loss = 0.11520847\n",
      "Iteration 161, loss = 0.11535558\n",
      "Iteration 162, loss = 0.11507292\n",
      "Iteration 163, loss = 0.11528719\n",
      "Iteration 164, loss = 0.11500861\n",
      "Iteration 165, loss = 0.11545218\n",
      "Iteration 166, loss = 0.11502005\n",
      "Iteration 167, loss = 0.11490631\n",
      "Iteration 168, loss = 0.11515383\n",
      "Iteration 169, loss = 0.11511105\n",
      "Iteration 170, loss = 0.11487038\n",
      "Iteration 171, loss = 0.11497062\n",
      "Iteration 172, loss = 0.11456365\n",
      "Iteration 173, loss = 0.11488393\n",
      "Iteration 174, loss = 0.11474158\n",
      "Iteration 175, loss = 0.11469174\n",
      "Iteration 176, loss = 0.11471734\n",
      "Iteration 177, loss = 0.11466318\n",
      "Iteration 178, loss = 0.11447039\n",
      "Iteration 179, loss = 0.11461842\n",
      "Iteration 180, loss = 0.11459099\n",
      "Iteration 181, loss = 0.11469301\n",
      "Iteration 182, loss = 0.11464693\n",
      "Iteration 183, loss = 0.11396221\n",
      "Iteration 184, loss = 0.11438054\n",
      "Iteration 185, loss = 0.11423393\n",
      "Iteration 186, loss = 0.11412859\n",
      "Iteration 187, loss = 0.11394763\n",
      "Iteration 188, loss = 0.11398432\n",
      "Iteration 189, loss = 0.11374154\n",
      "Iteration 190, loss = 0.11391488\n",
      "Iteration 191, loss = 0.11381747\n",
      "Iteration 192, loss = 0.11386752\n",
      "Iteration 193, loss = 0.11418492\n",
      "Iteration 194, loss = 0.11367975\n",
      "Iteration 195, loss = 0.11374833\n",
      "Iteration 196, loss = 0.11391821\n",
      "Iteration 197, loss = 0.11397046\n",
      "Iteration 198, loss = 0.11373046\n",
      "Iteration 199, loss = 0.11358940\n",
      "Iteration 200, loss = 0.11364128\n",
      "Training loss did not improve more than tol=0.000100 for 10 consecutive epochs. Stopping.\n"
     ]
    },
    {
     "data": {
      "text/html": [
       "<style>#sk-container-id-1 {color: black;background-color: white;}#sk-container-id-1 pre{padding: 0;}#sk-container-id-1 div.sk-toggleable {background-color: white;}#sk-container-id-1 label.sk-toggleable__label {cursor: pointer;display: block;width: 100%;margin-bottom: 0;padding: 0.3em;box-sizing: border-box;text-align: center;}#sk-container-id-1 label.sk-toggleable__label-arrow:before {content: \"▸\";float: left;margin-right: 0.25em;color: #696969;}#sk-container-id-1 label.sk-toggleable__label-arrow:hover:before {color: black;}#sk-container-id-1 div.sk-estimator:hover label.sk-toggleable__label-arrow:before {color: black;}#sk-container-id-1 div.sk-toggleable__content {max-height: 0;max-width: 0;overflow: hidden;text-align: left;background-color: #f0f8ff;}#sk-container-id-1 div.sk-toggleable__content pre {margin: 0.2em;color: black;border-radius: 0.25em;background-color: #f0f8ff;}#sk-container-id-1 input.sk-toggleable__control:checked~div.sk-toggleable__content {max-height: 200px;max-width: 100%;overflow: auto;}#sk-container-id-1 input.sk-toggleable__control:checked~label.sk-toggleable__label-arrow:before {content: \"▾\";}#sk-container-id-1 div.sk-estimator input.sk-toggleable__control:checked~label.sk-toggleable__label {background-color: #d4ebff;}#sk-container-id-1 div.sk-label input.sk-toggleable__control:checked~label.sk-toggleable__label {background-color: #d4ebff;}#sk-container-id-1 input.sk-hidden--visually {border: 0;clip: rect(1px 1px 1px 1px);clip: rect(1px, 1px, 1px, 1px);height: 1px;margin: -1px;overflow: hidden;padding: 0;position: absolute;width: 1px;}#sk-container-id-1 div.sk-estimator {font-family: monospace;background-color: #f0f8ff;border: 1px dotted black;border-radius: 0.25em;box-sizing: border-box;margin-bottom: 0.5em;}#sk-container-id-1 div.sk-estimator:hover {background-color: #d4ebff;}#sk-container-id-1 div.sk-parallel-item::after {content: \"\";width: 100%;border-bottom: 1px solid gray;flex-grow: 1;}#sk-container-id-1 div.sk-label:hover label.sk-toggleable__label {background-color: #d4ebff;}#sk-container-id-1 div.sk-serial::before {content: \"\";position: absolute;border-left: 1px solid gray;box-sizing: border-box;top: 0;bottom: 0;left: 50%;z-index: 0;}#sk-container-id-1 div.sk-serial {display: flex;flex-direction: column;align-items: center;background-color: white;padding-right: 0.2em;padding-left: 0.2em;position: relative;}#sk-container-id-1 div.sk-item {position: relative;z-index: 1;}#sk-container-id-1 div.sk-parallel {display: flex;align-items: stretch;justify-content: center;background-color: white;position: relative;}#sk-container-id-1 div.sk-item::before, #sk-container-id-1 div.sk-parallel-item::before {content: \"\";position: absolute;border-left: 1px solid gray;box-sizing: border-box;top: 0;bottom: 0;left: 50%;z-index: -1;}#sk-container-id-1 div.sk-parallel-item {display: flex;flex-direction: column;z-index: 1;position: relative;background-color: white;}#sk-container-id-1 div.sk-parallel-item:first-child::after {align-self: flex-end;width: 50%;}#sk-container-id-1 div.sk-parallel-item:last-child::after {align-self: flex-start;width: 50%;}#sk-container-id-1 div.sk-parallel-item:only-child::after {width: 0;}#sk-container-id-1 div.sk-dashed-wrapped {border: 1px dashed gray;margin: 0 0.4em 0.5em 0.4em;box-sizing: border-box;padding-bottom: 0.4em;background-color: white;}#sk-container-id-1 div.sk-label label {font-family: monospace;font-weight: bold;display: inline-block;line-height: 1.2em;}#sk-container-id-1 div.sk-label-container {text-align: center;}#sk-container-id-1 div.sk-container {/* jupyter's `normalize.less` sets `[hidden] { display: none; }` but bootstrap.min.css set `[hidden] { display: none !important; }` so we also need the `!important` here to be able to override the default hidden behavior on the sphinx rendered scikit-learn.org. See: https://github.com/scikit-learn/scikit-learn/issues/21755 */display: inline-block !important;position: relative;}#sk-container-id-1 div.sk-text-repr-fallback {display: none;}</style><div id=\"sk-container-id-1\" class=\"sk-top-container\"><div class=\"sk-text-repr-fallback\"><pre>Pipeline(steps=[(&#x27;votingclassifier&#x27;,\n",
       "                 VotingClassifier(estimators=[(&#x27;AB&#x27;,\n",
       "                                               RandomForestClassifier(criterion=&#x27;log_loss&#x27;,\n",
       "                                                                      max_depth=8,\n",
       "                                                                      max_features=&#x27;log2&#x27;,\n",
       "                                                                      min_samples_split=4,\n",
       "                                                                      n_estimators=300)),\n",
       "                                              (&#x27;RF&#x27;,\n",
       "                                               DecisionTreeClassifier(criterion=&#x27;log_loss&#x27;)),\n",
       "                                              (&#x27;MLP&#x27;,\n",
       "                                               MLPClassifier(activation=&#x27;tanh&#x27;,\n",
       "                                                             alpha=0.001,\n",
       "                                                             hidden_layer_sizes=(100,\n",
       "                                                                                 100),\n",
       "                                                             learning_rate=&#x27;adaptive&#x27;,\n",
       "                                                             verbose=True))],\n",
       "                                  voting=&#x27;soft&#x27;))])</pre><b>In a Jupyter environment, please rerun this cell to show the HTML representation or trust the notebook. <br />On GitHub, the HTML representation is unable to render, please try loading this page with nbviewer.org.</b></div><div class=\"sk-container\" hidden><div class=\"sk-item sk-dashed-wrapped\"><div class=\"sk-label-container\"><div class=\"sk-label sk-toggleable\"><input class=\"sk-toggleable__control sk-hidden--visually\" id=\"sk-estimator-id-1\" type=\"checkbox\" ><label for=\"sk-estimator-id-1\" class=\"sk-toggleable__label sk-toggleable__label-arrow\">Pipeline</label><div class=\"sk-toggleable__content\"><pre>Pipeline(steps=[(&#x27;votingclassifier&#x27;,\n",
       "                 VotingClassifier(estimators=[(&#x27;AB&#x27;,\n",
       "                                               RandomForestClassifier(criterion=&#x27;log_loss&#x27;,\n",
       "                                                                      max_depth=8,\n",
       "                                                                      max_features=&#x27;log2&#x27;,\n",
       "                                                                      min_samples_split=4,\n",
       "                                                                      n_estimators=300)),\n",
       "                                              (&#x27;RF&#x27;,\n",
       "                                               DecisionTreeClassifier(criterion=&#x27;log_loss&#x27;)),\n",
       "                                              (&#x27;MLP&#x27;,\n",
       "                                               MLPClassifier(activation=&#x27;tanh&#x27;,\n",
       "                                                             alpha=0.001,\n",
       "                                                             hidden_layer_sizes=(100,\n",
       "                                                                                 100),\n",
       "                                                             learning_rate=&#x27;adaptive&#x27;,\n",
       "                                                             verbose=True))],\n",
       "                                  voting=&#x27;soft&#x27;))])</pre></div></div></div><div class=\"sk-serial\"><div class=\"sk-item sk-dashed-wrapped\"><div class=\"sk-label-container\"><div class=\"sk-label sk-toggleable\"><input class=\"sk-toggleable__control sk-hidden--visually\" id=\"sk-estimator-id-2\" type=\"checkbox\" ><label for=\"sk-estimator-id-2\" class=\"sk-toggleable__label sk-toggleable__label-arrow\">votingclassifier: VotingClassifier</label><div class=\"sk-toggleable__content\"><pre>VotingClassifier(estimators=[(&#x27;AB&#x27;,\n",
       "                              RandomForestClassifier(criterion=&#x27;log_loss&#x27;,\n",
       "                                                     max_depth=8,\n",
       "                                                     max_features=&#x27;log2&#x27;,\n",
       "                                                     min_samples_split=4,\n",
       "                                                     n_estimators=300)),\n",
       "                             (&#x27;RF&#x27;,\n",
       "                              DecisionTreeClassifier(criterion=&#x27;log_loss&#x27;)),\n",
       "                             (&#x27;MLP&#x27;,\n",
       "                              MLPClassifier(activation=&#x27;tanh&#x27;, alpha=0.001,\n",
       "                                            hidden_layer_sizes=(100, 100),\n",
       "                                            learning_rate=&#x27;adaptive&#x27;,\n",
       "                                            verbose=True))],\n",
       "                 voting=&#x27;soft&#x27;)</pre></div></div></div><div class=\"sk-parallel\"><div class=\"sk-parallel-item\"><div class=\"sk-item\"><div class=\"sk-label-container\"><div class=\"sk-label sk-toggleable\"><label>AB</label></div></div><div class=\"sk-serial\"><div class=\"sk-item\"><div class=\"sk-estimator sk-toggleable\"><input class=\"sk-toggleable__control sk-hidden--visually\" id=\"sk-estimator-id-3\" type=\"checkbox\" ><label for=\"sk-estimator-id-3\" class=\"sk-toggleable__label sk-toggleable__label-arrow\">RandomForestClassifier</label><div class=\"sk-toggleable__content\"><pre>RandomForestClassifier(criterion=&#x27;log_loss&#x27;, max_depth=8, max_features=&#x27;log2&#x27;,\n",
       "                       min_samples_split=4, n_estimators=300)</pre></div></div></div></div></div></div><div class=\"sk-parallel-item\"><div class=\"sk-item\"><div class=\"sk-label-container\"><div class=\"sk-label sk-toggleable\"><label>RF</label></div></div><div class=\"sk-serial\"><div class=\"sk-item\"><div class=\"sk-estimator sk-toggleable\"><input class=\"sk-toggleable__control sk-hidden--visually\" id=\"sk-estimator-id-4\" type=\"checkbox\" ><label for=\"sk-estimator-id-4\" class=\"sk-toggleable__label sk-toggleable__label-arrow\">DecisionTreeClassifier</label><div class=\"sk-toggleable__content\"><pre>DecisionTreeClassifier(criterion=&#x27;log_loss&#x27;)</pre></div></div></div></div></div></div><div class=\"sk-parallel-item\"><div class=\"sk-item\"><div class=\"sk-label-container\"><div class=\"sk-label sk-toggleable\"><label>MLP</label></div></div><div class=\"sk-serial\"><div class=\"sk-item\"><div class=\"sk-estimator sk-toggleable\"><input class=\"sk-toggleable__control sk-hidden--visually\" id=\"sk-estimator-id-5\" type=\"checkbox\" ><label for=\"sk-estimator-id-5\" class=\"sk-toggleable__label sk-toggleable__label-arrow\">MLPClassifier</label><div class=\"sk-toggleable__content\"><pre>MLPClassifier(activation=&#x27;tanh&#x27;, alpha=0.001, hidden_layer_sizes=(100, 100),\n",
       "              learning_rate=&#x27;adaptive&#x27;, verbose=True)</pre></div></div></div></div></div></div></div></div></div></div></div></div>"
      ],
      "text/plain": [
       "Pipeline(steps=[('votingclassifier',\n",
       "                 VotingClassifier(estimators=[('AB',\n",
       "                                               RandomForestClassifier(criterion='log_loss',\n",
       "                                                                      max_depth=8,\n",
       "                                                                      max_features='log2',\n",
       "                                                                      min_samples_split=4,\n",
       "                                                                      n_estimators=300)),\n",
       "                                              ('RF',\n",
       "                                               DecisionTreeClassifier(criterion='log_loss')),\n",
       "                                              ('MLP',\n",
       "                                               MLPClassifier(activation='tanh',\n",
       "                                                             alpha=0.001,\n",
       "                                                             hidden_layer_sizes=(100,\n",
       "                                                                                 100),\n",
       "                                                             learning_rate='adaptive',\n",
       "                                                             verbose=True))],\n",
       "                                  voting='soft'))])"
      ]
     },
     "execution_count": 13,
     "metadata": {},
     "output_type": "execute_result"
    }
   ],
   "source": [
    "clf.fit(X_train, y_train)"
   ]
  },
  {
   "cell_type": "code",
   "execution_count": 14,
   "id": "cb6cb575",
   "metadata": {},
   "outputs": [],
   "source": [
    "y_pred = clf.predict(X_test)"
   ]
  },
  {
   "cell_type": "code",
   "execution_count": 15,
   "id": "d4657b04",
   "metadata": {},
   "outputs": [
    {
     "name": "stdout",
     "output_type": "stream",
     "text": [
      "              precision    recall  f1-score   support\n",
      "\n",
      "           0       0.99      1.00      1.00     60000\n",
      "           1       0.99      0.99      0.99     32209\n",
      "\n",
      "    accuracy                           0.99     92209\n",
      "   macro avg       0.99      0.99      0.99     92209\n",
      "weighted avg       0.99      0.99      0.99     92209\n",
      "\n"
     ]
    }
   ],
   "source": [
    "print(classification_report(y_test, y_pred))"
   ]
  },
  {
   "cell_type": "code",
   "execution_count": 16,
   "id": "94247247",
   "metadata": {},
   "outputs": [
    {
     "data": {
      "text/plain": [
       "<sklearn.metrics._plot.confusion_matrix.ConfusionMatrixDisplay at 0x7f188b145ed0>"
      ]
     },
     "execution_count": 16,
     "metadata": {},
     "output_type": "execute_result"
    },
    {
     "data": {
      "image/png": "[encoded data removed]",
      "text/plain": [
       "<Figure size 640x480 with 2 Axes>"
      ]
     },
     "metadata": {},
     "output_type": "display_data"
    }
   ],
   "source": [
    "from sklearn.metrics import confusion_matrix, ConfusionMatrixDisplay, classification_report\n",
    "\n",
    "cm = confusion_matrix(y_test, y_pred)\n",
    "disp = ConfusionMatrixDisplay(confusion_matrix=cm,\n",
    "                       display_labels=clf.classes_)\n",
    "disp.plot()"
   ]
  },
  {
   "cell_type": "code",
   "execution_count": null,
   "id": "a114e449",
   "metadata": {},
   "outputs": [],
   "source": []
  }
 ],
 "metadata": {
  "kernelspec": {
   "display_name": "Python 3 (ipykernel)",
   "language": "python",
   "name": "python3"
  },
  "language_info": {
   "codemirror_mode": {
    "name": "ipython",
    "version": 3
   },
   "file_extension": ".py",
   "mimetype": "text/x-python",
   "name": "python",
   "nbconvert_exporter": "python",
   "pygments_lexer": "ipython3",
   "version": "3.10.6"
  }
 },
 "nbformat": 4,
 "nbformat_minor": 5
}
